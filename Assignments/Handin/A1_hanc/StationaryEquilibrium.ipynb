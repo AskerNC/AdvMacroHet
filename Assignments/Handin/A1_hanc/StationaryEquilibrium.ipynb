{
 "cells": [
  {
   "cell_type": "markdown",
   "metadata": {},
   "source": [
    "# Introduction"
   ]
  },
  {
   "cell_type": "markdown",
   "metadata": {},
   "source": [
    "**Contents:**\n",
    "\n",
    "1. Introduces the `GEModelTools`\n",
    "1. Solves and simulates a simple **Heterogenous Agent Neo-Classical (HANC) model**"
   ]
  },
  {
   "cell_type": "code",
   "execution_count": 1,
   "metadata": {},
   "outputs": [],
   "source": [
    "%load_ext autoreload\n",
    "%autoreload 2\n",
    "\n",
    "import time\n",
    "import pickle\n",
    "import numpy as np\n",
    "from scipy import optimize\n",
    "\n",
    "import matplotlib.pyplot as plt   \n",
    "plt.style.use('seaborn-whitegrid')\n",
    "prop_cycle = plt.rcParams['axes.prop_cycle']\n",
    "colors = prop_cycle.by_key()['color']\n",
    "\n",
    "from HANCModel import HANCModelClass"
   ]
  },
  {
   "cell_type": "markdown",
   "metadata": {},
   "source": [
    "### New model"
   ]
  },
  {
   "cell_type": "markdown",
   "metadata": {},
   "source": [
    "1. Households: Solve\n",
    "\\begin{align*}\n",
    "v_{t}(z_{t},a_{t-1})\t& =\\max_{c_{t}}\\frac{c_{t}^{1-\\sigma}}{1-\\sigma}+\\beta\\mathbb{E}_{t}\\left[v_{t+1}(z_{t+1},a_{t})\\right] \\\\\n",
    "\\text{s.t. }a_{t}+c_{t}\t& =(1+r_{t})a_{t-1}+(1-\\tau_{t})z_{t}\\geq0 \\\\\n",
    "\\log z_{t+1}\t&=\\rho_{z}\\log z_{t}+\\psi_{t+1}\\,\\,\\,,\\psi_{t}\\sim\\mathcal{N}(\\mu_{\\psi},\\sigma_{\\psi}),\\,\\mathbb{E}[z_{t}]=1\n",
    "\\end{align*}\n",
    "where $r_{t}$ is the real-interest rate and $\\tau_{t}$ is a tax rate\n",
    "2. Government: Set taxes and government bonds follows \n",
    "\\begin{align*} \n",
    "B_{t+1}=(1+r_{t})B_{t}-\\int\\tau_{t}z_{t}d\\boldsymbol{D}_{t} \n",
    "\\end{align*}\n",
    "\n",
    "3. Bond market clearing: $B_{t}=\\int a_{t}^{\\ast}(z_{t},a_{t-1})d\\boldsymbol{D}_{t}$\n",
    "\n",
    "4. Define and find the stationary equilibrium"
   ]
  },
  {
   "cell_type": "markdown",
   "metadata": {},
   "source": [
    "\\begin{align*}\n",
    "B_{t+1}=(1+r_{t})B_{t}-\\int\\tau_{t}z_{t}d\\boldsymbol{D}_{t} \\\\\n",
    "\\Rightarrow B_{ss}=(1+r_{ss})B_{ss}-\\int\\tau_{t}z_{t}d\\boldsymbol{D}_{ss} \\\\\n",
    "\\Leftrightarrow r_{ss}=\\frac{1}{B_{ss}}\\int\\tau_{t}z_{t}d\\boldsymbol{D}_{ss}\n",
    "\\end{align*}"
   ]
  },
  {
   "cell_type": "markdown",
   "metadata": {},
   "source": [
    "\\begin{align*}\n",
    "H_{ss}\\left(B_{ss}; \\tau_{ss}\\right)=\n",
    "\\left[ \n",
    "    \\begin{matrix}\n",
    "B_{ss}-\\boldsymbol{a}_{ss}^{\\ast\\prime}\\boldsymbol{D}_{ss} \\\\\n",
    "r_{ss}-\\frac{1}{B_{ss}}\\int\\tau_{ss}z_{t}d\\boldsymbol{D}_{ss} \\\\\n",
    "\\boldsymbol{D}_{ss}-\\Pi_{z}^{\\prime}\\underline{\\boldsymbol{D}}_{ss} \\\\\n",
    "\\underline{\\boldsymbol{D}}_{ss}-\\Lambda_{ss}^{\\prime}\\boldsymbol{D}_{ss}\n",
    "\\end{matrix} \n",
    "\\right] =\\boldsymbol{0}\n",
    "\\end{align*}\n",
    "With Policy function: $a_{t}^{\\ast}=a^{\\ast}\\left(\\left\\{ r_{\\tau},\\tau_{ss}\\right\\} _{\\tau\\geq t}\\right)$\n",
    "\n",
    "And Choice transition: $\\Lambda_{t}=\\Lambda\\left(\\left\\{ r_{\\tau},\\tau_{ss}\\right\\} _{\\tau\\geq t}\\right)$"
   ]
  },
  {
   "cell_type": "markdown",
   "metadata": {},
   "source": [
    "You can also back out tau:\n",
    "\\begin{align*}\n",
    "\\Leftrightarrow \\tau_{ss} = \\frac{r_{ss}B_{ss}}{\\int z_{t}d\\boldsymbol{D}_{ss}}\n",
    "\\end{align*}\n",
    "But because it part of the household problem we cannot use the indirect solution method "
   ]
  },
  {
   "cell_type": "markdown",
   "metadata": {
    "tags": []
   },
   "source": [
    "# Setup"
   ]
  },
  {
   "cell_type": "code",
   "execution_count": 2,
   "metadata": {},
   "outputs": [],
   "source": [
    "model = HANCModelClass(name='A1') # create an instance of the model"
   ]
  },
  {
   "cell_type": "code",
   "execution_count": 3,
   "metadata": {},
   "outputs": [],
   "source": [
    "ss =model.ss\n",
    "par  =model.par\n",
    "ss.r = 0.02\n",
    "ss.w = 1.\n",
    "\n",
    "# Preset calibration\n",
    "ss.taua = 0.1\n",
    "ss.taul = 0.3\n",
    "ss.G = 0.3\n"
   ]
  },
  {
   "cell_type": "markdown",
   "metadata": {},
   "source": [
    "**Solve the household problem** with `.solve_hh_ss()`:\n",
    "    \n",
    "1. Calls `.prepare_hh_ss()`\n",
    "1. Calls `.solve_backwards_hh()` until convergence"
   ]
  },
  {
   "cell_type": "code",
   "execution_count": 5,
   "metadata": {},
   "outputs": [],
   "source": [
    "par = model.par\n",
    "ss = model.ss"
   ]
  },
  {
   "cell_type": "code",
   "execution_count": 40,
   "metadata": {},
   "outputs": [
    {
     "name": "stdout",
     "output_type": "stream",
     "text": [
      "household problem in ss solved in 0.0 secs [0 iterations]\n"
     ]
    }
   ],
   "source": [
    "model.solve_hh_ss(do_print=True)"
   ]
  },
  {
   "cell_type": "code",
   "execution_count": 41,
   "metadata": {},
   "outputs": [
    {
     "name": "stdout",
     "output_type": "stream",
     "text": [
      "household problem in ss simulated in 0.0 secs [2 iterations]\n"
     ]
    }
   ],
   "source": [
    "model.simulate_hh_ss(do_print=True)"
   ]
  },
  {
   "cell_type": "markdown",
   "metadata": {},
   "source": [
    "**Aggregate savings:**"
   ]
  },
  {
   "cell_type": "code",
   "execution_count": null,
   "metadata": {},
   "outputs": [],
   "source": [
    "(ss.D.T@par.zeta).shape"
   ]
  },
  {
   "cell_type": "markdown",
   "metadata": {},
   "source": [
    "# Find stationary equilibrium"
   ]
  },
  {
   "cell_type": "markdown",
   "metadata": {},
   "source": [
    "## Direct approach"
   ]
  },
  {
   "cell_type": "code",
   "execution_count": null,
   "metadata": {},
   "outputs": [],
   "source": [
    "model.find_ss(method='direct',do_print=True)\n"
   ]
  },
  {
   "cell_type": "markdown",
   "metadata": {},
   "source": [
    "**Look at the steady state variables:**"
   ]
  },
  {
   "cell_type": "code",
   "execution_count": null,
   "metadata": {},
   "outputs": [],
   "source": [
    "for varname in model.varlist:\n",
    "    print(f'{varname:15s}: {ss.__dict__[varname]:.4f}')"
   ]
  },
  {
   "cell_type": "code",
   "execution_count": null,
   "metadata": {},
   "outputs": [],
   "source": [
    "ss = model.ss\n"
   ]
  },
  {
   "cell_type": "markdown",
   "metadata": {},
   "source": [
    "## Looking at the stationary equilibrium"
   ]
  },
  {
   "cell_type": "markdown",
   "metadata": {},
   "source": [
    "### Policy functions"
   ]
  },
  {
   "cell_type": "code",
   "execution_count": null,
   "metadata": {},
   "outputs": [],
   "source": [
    "fig = plt.figure(figsize=(12,4),dpi=100)\n",
    "par = model.par\n",
    "I = par.a_grid < 500\n",
    "\n",
    "# a. consumption\n",
    "ax = fig.add_subplot(1,2,1)\n",
    "ax.set_title(f'consumption')\n",
    "\n",
    "for i_z,z in enumerate(par.z_grid):\n",
    "    if i_z%3 == 0 or i_z == par.Nz-1:\n",
    "        ax.plot(par.a_grid[I],ss.c[0,i_z,I],label=f'z = {z:.2f}')\n",
    "\n",
    "ax.legend(frameon=True)\n",
    "ax.set_xlabel('savings, $a_{t-1}$')\n",
    "ax.set_ylabel('consumption, $c_t$')\n",
    "\n",
    "# b. saving\n",
    "ax = fig.add_subplot(1,2,2)\n",
    "ax.set_title(f'saving')\n",
    "\n",
    "for i_z,z in enumerate(par.z_grid):\n",
    "    if i_z%3 == 0 or i_z == par.Nz-1:\n",
    "        ax.plot(par.a_grid[I],ss.a[0,i_z,I]-par.a_grid[I],label=f'z = {z:.2f}')\n",
    "\n",
    "ax.set_xlabel('savings, $a_{t-1}$')\n",
    "ax.set_ylabel('savings change, $a_{t}-a_{t-1}$')\n",
    "\n",
    "fig.tight_layout()"
   ]
  },
  {
   "cell_type": "markdown",
   "metadata": {},
   "source": [
    "### Distributions"
   ]
  },
  {
   "cell_type": "code",
   "execution_count": null,
   "metadata": {},
   "outputs": [],
   "source": [
    "fig = plt.figure(figsize=(12,4),dpi=100)\n",
    "\n",
    "# a. income\n",
    "ax = fig.add_subplot(1,2,1)\n",
    "ax.set_title('productivity')\n",
    "ax.plot(par.z_grid,np.cumsum(np.sum(ss.D,axis=(0,2))))\n",
    "\n",
    "ax.set_xlabel('productivity, $z_{t}$')\n",
    "ax.set_ylabel('CDF')\n",
    "\n",
    "# b. assets\n",
    "ax = fig.add_subplot(1,2,2)\n",
    "ax.set_title('savings')\n",
    "ax.plot(np.insert(par.a_grid,0,par.a_grid[0]),np.insert(np.cumsum(np.sum(ss.D,axis=(0,1))),0,0.0),label='discrete')\n",
    "ax.set_xlabel('assets, $a_{t}$')\n",
    "ax.set_ylabel('CDF')\n",
    "ax.set_xscale('symlog')"
   ]
  },
  {
   "cell_type": "markdown",
   "metadata": {},
   "source": [
    "**Income moments:**"
   ]
  },
  {
   "cell_type": "code",
   "execution_count": null,
   "metadata": {},
   "outputs": [],
   "source": [
    "mean_z = np.sum(ss.D*par.z_grid[:,np.newaxis])\n",
    "std_z = np.sqrt(np.sum(ss.D*(par.z_grid[np.newaxis,:,np.newaxis]-mean_z)**2))\n",
    "print(f'mean z: {mean_z:5.2f}')\n",
    "print(f'std. z: {std_z:5.2f}')"
   ]
  },
  {
   "cell_type": "markdown",
   "metadata": {},
   "source": [
    "**Asset moments:**"
   ]
  },
  {
   "cell_type": "code",
   "execution_count": null,
   "metadata": {},
   "outputs": [],
   "source": [
    "# a. prepare\n",
    "Da = np.sum(ss.D,axis=(0,1))\n",
    "Da_cs = np.cumsum(Da)\n",
    "mean_a = np.sum(Da*par.a_grid)\n",
    "std_a = np.sqrt(np.sum(Da*(par.a_grid-mean_a)**2))\n",
    "\n",
    "def percentile(par,Da_cs,p):\n",
    "    \n",
    "    # a. check first\n",
    "    if p < Da_cs[0]: return par.a_grid[0]\n",
    "    \n",
    "    # b. find with loop\n",
    "    i = 0\n",
    "    while True:\n",
    "        if p > Da_cs[i+1]:\n",
    "            if i+1 >= par.Na: raise Exception()\n",
    "            i += 1\n",
    "            continue\n",
    "        else:\n",
    "            w = (p-Da_cs[i])/(Da_cs[i+1]-Da_cs[i])\n",
    "            diff = par.a_grid[i+1]-par.a_grid[i]\n",
    "            return par.a_grid[i]+w*diff\n",
    "        \n",
    "p25_a = percentile(par,Da_cs,0.25)\n",
    "p50_a = percentile(par,Da_cs,0.50)\n",
    "p95_a = percentile(par,Da_cs,0.95)\n",
    "p99_a = percentile(par,Da_cs,0.99)\n",
    "\n",
    "# b. print\n",
    "print(f'mean a: {mean_a:6.3f}')\n",
    "print(f'p25  a: {p25_a:6.3f}')\n",
    "print(f'p50  a: {p50_a:6.3f}')\n",
    "print(f'p95  a: {p95_a:6.3f}')\n",
    "print(f'p99  a: {p99_a:6.3f}')\n",
    "print(f'std. a: {std_a:6.3f}')"
   ]
  },
  {
   "cell_type": "code",
   "execution_count": null,
   "metadata": {},
   "outputs": [],
   "source": []
  },
  {
   "cell_type": "markdown",
   "metadata": {},
   "source": [
    "**MPC:**"
   ]
  },
  {
   "cell_type": "code",
   "execution_count": null,
   "metadata": {},
   "outputs": [],
   "source": [
    "def calc_MPC(par,ss):\n",
    "    \n",
    "    MPC = np.zeros(ss.D.shape)\n",
    "    dc = (ss.c[:,:,1:]-ss.c[:,:,:-1])\n",
    "    dm = (1+model.ss.r)*par.a_grid[np.newaxis,np.newaxis,1:]-(1+model.ss.r)*par.a_grid[np.newaxis,np.newaxis,:-1]\n",
    "    MPC[:,:,:-1] = dc/dm\n",
    "    MPC[:,:,-1] = MPC[:,:,-1] # assuming constant MPC at end\n",
    "    mean_MPC = np.sum(MPC*ss.D)\n",
    "    return mean_MPC\n",
    "\n",
    "mean_MPC = calc_MPC(par,ss)\n",
    "print(f'mean MPC: {mean_MPC:.3f}')"
   ]
  },
  {
   "cell_type": "markdown",
   "metadata": {},
   "source": [
    "**Question:** What is the correlation between income and savings?"
   ]
  },
  {
   "cell_type": "markdown",
   "metadata": {},
   "source": [
    "## Indirect approach"
   ]
  },
  {
   "cell_type": "code",
   "execution_count": null,
   "metadata": {},
   "outputs": [],
   "source": [
    "# Indirect approach does not work\n",
    "#model_indirect = model.copy()\n",
    "#model_indirect.r_ss_target = 0.1\n",
    "#model_indirect.allocate()"
   ]
  },
  {
   "cell_type": "code",
   "execution_count": null,
   "metadata": {},
   "outputs": [],
   "source": [
    "#model_indirect.find_ss(method='indirect',do_print=True)"
   ]
  },
  {
   "cell_type": "markdown",
   "metadata": {},
   "source": [
    "**Question:** What are the pros and cons of the direct and indirect method?"
   ]
  },
  {
   "cell_type": "markdown",
   "metadata": {},
   "source": [
    "# Idiosyncratic risk and the steady state interest rate"
   ]
  },
  {
   "cell_type": "code",
   "execution_count": null,
   "metadata": {},
   "outputs": [],
   "source": [
    "print(f'ss.A_hh = ss.K = {ss.A_hh:.2f}')\n",
    "print(f'ss.r = {ss.r*100:.2f} %')\n",
    "print('')\n",
    "      \n",
    "for sigma_psi in np.linspace(par.sigma_psi,2*par.sigma_psi,5):\n",
    "    \n",
    "    print(f'{sigma_psi = :.2f}')\n",
    "\n",
    "    model_ = model.copy()\n",
    "    model_.par.sigma_psi = sigma_psi\n",
    "        \n",
    "    model_.solve_hh_ss(do_print=False)\n",
    "    model_.simulate_hh_ss(do_print=False)\n",
    "    \n",
    "    A_hh = np.sum(model_.ss.a*model_.ss.D)\n",
    "    \n",
    "    print(f'PE {A_hh = :.2f}')\n",
    "          \n",
    "    model_.find_ss(method='direct')\n",
    "\n",
    "    print(f'GE ss.r = {model_.ss.r*100:.2f} %')\n",
    "    print(f'GE ss.A_hh = ss.K = {model_.ss.A_hh:.2f}')\n",
    "\n",
    "    print('')"
   ]
  },
  {
   "cell_type": "markdown",
   "metadata": {},
   "source": [
    "# Calibration"
   ]
  },
  {
   "cell_type": "code",
   "execution_count": null,
   "metadata": {},
   "outputs": [],
   "source": [
    "from root_finding import brentq"
   ]
  },
  {
   "cell_type": "code",
   "execution_count": null,
   "metadata": {},
   "outputs": [],
   "source": [
    "def calib_obj(beta,model):\n",
    "    \"\"\" calibration objective \"\"\"\n",
    "    \n",
    "    model.par.beta = beta\n",
    "    model.find_ss(method='direct')    \n",
    "    \n",
    "    mean_MPC = calc_MPC(model.par,model.ss)\n",
    "     \n",
    "    return mean_MPC-0.20"
   ]
  },
  {
   "cell_type": "code",
   "execution_count": null,
   "metadata": {},
   "outputs": [],
   "source": [
    "model_calib = model.copy()\n",
    "brentq(calib_obj,0.94,par.beta,args=(model_calib,),do_print=True,varname='beta',funcname='MPC-0.20');"
   ]
  },
  {
   "cell_type": "code",
   "execution_count": null,
   "metadata": {},
   "outputs": [],
   "source": [
    "print(f'ss.r = {model_calib.ss.r*100:.2f} %')\n",
    "print(f'ss.B = {model_calib.ss.B:.2f}')"
   ]
  },
  {
   "cell_type": "markdown",
   "metadata": {},
   "source": [
    "**Question:** What could be an alternative be to use a root-finder?"
   ]
  },
  {
   "cell_type": "markdown",
   "metadata": {},
   "source": [
    "# Exercise"
   ]
  },
  {
   "cell_type": "markdown",
   "metadata": {},
   "source": [
    "1. What is the optimal level of of $\\tau_t$"
   ]
  },
  {
   "cell_type": "code",
   "execution_count": null,
   "metadata": {},
   "outputs": [],
   "source": [
    "model.ss.c.shape"
   ]
  },
  {
   "cell_type": "code",
   "execution_count": null,
   "metadata": {},
   "outputs": [],
   "source": [
    "ss = model.ss\n",
    "\n",
    "\n",
    "ss.c.shape"
   ]
  },
  {
   "cell_type": "code",
   "execution_count": null,
   "metadata": {},
   "outputs": [],
   "source": [
    "ss.D.shape"
   ]
  },
  {
   "cell_type": "code",
   "execution_count": null,
   "metadata": {},
   "outputs": [],
   "source": [
    "def util(c,par):\n",
    "    return c**(1-par.sigma)/(1-par.sigma)\n",
    "\n",
    "def wellfare(model,type='benthamite'):\n",
    "    ss = model.ss\n",
    "    par = model.par\n",
    "\n",
    "    U = util(ss.c,par)\n",
    "    #Da = np.sum(ss.D,axis=(0,1))\n",
    "\n",
    "    # Social welfare functions: https://en.wikipedia.org/wiki/Social_welfare_function\n",
    "    if type.lower() in ['benthamite','sum']:\n",
    "        \n",
    "        \n",
    "        W = np.sum(ss.D*U)\n",
    "    \n",
    "\n",
    "    if type.lower() in ['semi-rawls']:\n",
    "        \n",
    "        pass\n",
    "        #W = percentile(par,Da_cs,0.1,var='c')\n",
    "\n",
    "    return W"
   ]
  },
  {
   "cell_type": "code",
   "execution_count": null,
   "metadata": {},
   "outputs": [],
   "source": [
    "wellfare(model)"
   ]
  },
  {
   "cell_type": "code",
   "execution_count": null,
   "metadata": {},
   "outputs": [],
   "source": [
    "def obj_fun(tau,model):\n",
    "    model.par.tau = tau\n",
    "    model.find_ss(method='direct')    \n",
    "    W = wellfare(model)\n",
    "    return -W"
   ]
  },
  {
   "cell_type": "code",
   "execution_count": null,
   "metadata": {},
   "outputs": [],
   "source": [
    "model.ss.r"
   ]
  },
  {
   "cell_type": "code",
   "execution_count": null,
   "metadata": {},
   "outputs": [],
   "source": [
    "tau_list = np.linspace(0,0.5,10)\n"
   ]
  },
  {
   "cell_type": "code",
   "execution_count": null,
   "metadata": {},
   "outputs": [],
   "source": [
    "model_calib = model.copy()\n",
    "W_list = np.empty(tau_list.shape)\n",
    "\n",
    "for i, tau in enumerate(tau_list):\n",
    "    print(f'Tau = {tau:.3f}')\n",
    "\n",
    "    W = obj_fun(tau,model_calib)\n",
    "    W_list[i] = W\n",
    "\n",
    "    print(f'W = {W:.4f}')\n",
    "    print(f'B = {model_calib.ss.B}')\n",
    "    print('')\n",
    "\n",
    "\n",
    "#W_list = [obj_fun(tau,model_calib) for tau in tau_list]\n",
    "#W_list"
   ]
  },
  {
   "cell_type": "code",
   "execution_count": null,
   "metadata": {},
   "outputs": [],
   "source": [
    "model_calib.par.tau = 0.8\n",
    "model_calib.find_ss(method='direct',do_print=True) "
   ]
  },
  {
   "cell_type": "code",
   "execution_count": null,
   "metadata": {},
   "outputs": [],
   "source": [
    "model_calib.par.tau = 0.9\n",
    "model_calib.find_ss(method='direct',do_print=True) "
   ]
  },
  {
   "cell_type": "code",
   "execution_count": null,
   "metadata": {},
   "outputs": [],
   "source": [
    "res = optimize.minimize_scalar(obj_fun,bounds=[0.05,0.15],args=(model_calib,),method='Bounded')\n",
    "res"
   ]
  },
  {
   "cell_type": "code",
   "execution_count": null,
   "metadata": {},
   "outputs": [],
   "source": [
    "tau_list = np.linspace(0,0.95,100)\n",
    "model_calib = model.copy()\n",
    "W_list = np.empty(tau_list.shape)\n",
    "\n",
    "for i, tau in enumerate(tau_list):\n",
    "    W = obj_fun(tau,model_calib)\n",
    "    W_list[i] = -W\n"
   ]
  },
  {
   "cell_type": "code",
   "execution_count": null,
   "metadata": {},
   "outputs": [],
   "source": [
    "fig = plt.figure(figsize=(12,4),dpi=100)\n",
    "\n",
    "# a. income\n",
    "ax = fig.add_subplot(1,1,1)\n",
    "ax.set_title('W over tau')\n",
    "ax.plot(tau_list,W_list)\n",
    "\n",
    "ax.set_xlabel('tau')\n",
    "ax.set_ylabel('W');\n"
   ]
  },
  {
   "cell_type": "code",
   "execution_count": null,
   "metadata": {},
   "outputs": [],
   "source": []
  }
 ],
 "metadata": {
  "kernelspec": {
   "display_name": "Python 3.9.12 ('base')",
   "language": "python",
   "name": "python3"
  },
  "language_info": {
   "codemirror_mode": {
    "name": "ipython",
    "version": 3
   },
   "file_extension": ".py",
   "mimetype": "text/x-python",
   "name": "python",
   "nbconvert_exporter": "python",
   "pygments_lexer": "ipython3",
   "version": "3.9.12"
  },
  "toc-autonumbering": true,
  "vscode": {
   "interpreter": {
    "hash": "2164e4eaf16dd6cd705646718fcef4f5f263bad5b7d103e76e9308c0132ca24b"
   }
  }
 },
 "nbformat": 4,
 "nbformat_minor": 4
}
