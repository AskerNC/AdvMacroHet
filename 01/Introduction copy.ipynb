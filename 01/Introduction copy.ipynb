{
 "cells": [
  {
   "cell_type": "markdown",
   "metadata": {},
   "source": [
    "# Introduction"
   ]
  },
  {
   "cell_type": "markdown",
   "metadata": {},
   "source": [
    "**Contents:**\n",
    "\n",
    "1. Introduces the `EconModelClass`\n",
    "1. Solves and simulates a simple consumption-saving model\n",
    "\n",
    "**Solution methods:** Value function iteration (`vfi`) and the endogenous grid-point method (`egm`)\n",
    "\n",
    "**Simulation methods:** Monte Carlo (`mc`) and the historgram method (`hist`)"
   ]
  },
  {
   "cell_type": "markdown",
   "metadata": {},
   "source": [
    "# Setup"
   ]
  },
  {
   "cell_type": "code",
   "execution_count": 1,
   "metadata": {},
   "outputs": [],
   "source": [
    "%load_ext autoreload\n",
    "%autoreload 2\n",
    "\n",
    "import numpy as np\n",
    "import numba as nb\n",
    "\n",
    "import matplotlib.pyplot as plt\n",
    "plt.style.use('seaborn-whitegrid')\n",
    "prop_cycle = plt.rcParams['axes.prop_cycle']\n",
    "colors = prop_cycle.by_key()['color']\n",
    "\n",
    "from EconModel import EconModelClass, jit  "
   ]
  },
  {
   "cell_type": "markdown",
   "metadata": {},
   "source": [
    "# EconModel"
   ]
  },
  {
   "cell_type": "markdown",
   "metadata": {},
   "source": [
    "**Docunmentation:** [EconModel](https://github.com/NumEconCopenhagen/EconModel) github repository\n",
    "\n",
    "**Examples:** [EconModelNotebooks](https://github.com/NumEconCopenhagen/EconModelNotebooks) github repository"
   ]
  },
  {
   "cell_type": "markdown",
   "metadata": {},
   "source": [
    "**Overview:** `EconModel` is a small package for easily working with economic models in Python. It has four objectives:\n",
    "\n",
    "1. Make it easy to write well-structed code.\n",
    "1. Provide standard functionality for copying, saving and loading.\n",
    "1. Provide an easy interface to call [numba](http://numba.pydata.org/) JIT compilled functions.\n",
    "1. Provide an easy interface to call C++ functions [*not relevant in this course*].\n",
    "\n",
    "The two first objectives should be of interest to everybody, while the two last objectives are for more advanced users."
   ]
  },
  {
   "cell_type": "markdown",
   "metadata": {},
   "source": [
    "## Baseline Usage"
   ]
  },
  {
   "cell_type": "markdown",
   "metadata": {},
   "source": [
    "The model is **required** to have the following three methods:\n",
    "\n",
    "1. `.settings()`: Choose fundamental settings.\n",
    "1. `.setup()`: Set free parameters.\n",
    "1. `.allocate()`: Set compound parameters and allocate arrays.\n",
    "\n",
    "When the model is initialized `.settings()`, `.setup()` and `.allocate()` are all called (in that order).\n",
    "\n",
    "Per default the namespaces `.par` (for parameters), `.sol` (for solution objects) and `.sim` (for simulation objects) are available. The philosophy of the package is that all the content of the model is contained in these namespaces. After the model has been initialized, no additional entries should be added to the namespaces, and each entry should only change *value(s)* (or shape for arrays), but never *type* (or number of dimensions for arrays)."
   ]
  },
  {
   "cell_type": "code",
   "execution_count": 2,
   "metadata": {},
   "outputs": [],
   "source": [
    "class MyModelClass(EconModelClass):\n",
    "    \n",
    "    # __init__ is inherited from EconModelClass\n",
    "    \n",
    "    def settings(self): # required\n",
    "        \"\"\" choose settings \"\"\"\n",
    "            \n",
    "        pass # nothing chosen here\n",
    "    \n",
    "    def setup(self): # required\n",
    "        \"\"\" set free parameters \"\"\"\n",
    "        \n",
    "        par = self.par\n",
    "        \n",
    "        par.N = 10\n",
    "        par.a = 2.0\n",
    "        par.b = 1.0\n",
    "        par.threads = 4\n",
    "        par.txt = 'a'\n",
    "        par.txtlist = 'N|threads'\n",
    "        \n",
    "    def allocate(self): # required\n",
    "        \"\"\" set compound parameters and allocate arrays \"\"\"\n",
    "        \n",
    "        par = self.par\n",
    "        sol = self.sol\n",
    "        \n",
    "        par.X = np.linspace(0,10,par.N)\n",
    "        sol.Y = np.zeros(par.N)\n",
    "    \n",
    "    def solve(self): # user-defined\n",
    "        \"\"\" solve the model\"\"\"\n",
    "        \n",
    "        par = self.par\n",
    "        sol = self.sol\n",
    "        \n",
    "        sol.Y[:] = par.X*(par.a+par.b)\n"
   ]
  },
  {
   "cell_type": "markdown",
   "metadata": {},
   "source": [
    "In `.settings()` the user can change the default behavior by specifying: \n",
    "\n",
    "1. `self.savefolder = str`: Filepath to save in and load from (default: 'saved').\n",
    "1. `self.namespaces = [str]`: List of namespaces (in addition to `.par`, `.sol`, `.sol`).\n",
    "1. `self.other_attrs = [str]`: List of additional attributes to be copied and saved.\n"
   ]
  },
  {
   "cell_type": "markdown",
   "metadata": {},
   "source": [
    "### Setup"
   ]
  },
  {
   "cell_type": "code",
   "execution_count": 3,
   "metadata": {},
   "outputs": [],
   "source": [
    "model = MyModelClass(name='example')"
   ]
  },
  {
   "cell_type": "code",
   "execution_count": 4,
   "metadata": {},
   "outputs": [],
   "source": [
    "model.solve()"
   ]
  },
  {
   "cell_type": "markdown",
   "metadata": {},
   "source": [
    "**Print description:**"
   ]
  },
  {
   "cell_type": "code",
   "execution_count": 5,
   "metadata": {},
   "outputs": [
    {
     "name": "stdout",
     "output_type": "stream",
     "text": [
      "Modelclass: MyModelClass\n",
      "Name: example\n",
      "\n",
      "namespaces: ['sol', 'sim', 'par']\n",
      "other_attrs: []\n",
      "savefolder: saved\n",
      "cpp_filename: None\n",
      "\n",
      "sol:\n",
      " Y = ndarray with shape = (10,) [dtype: float64]\n",
      " memory, gb: 0.0\n",
      "\n",
      "sim:\n",
      " memory, gb: 0.0\n",
      "\n",
      "par:\n",
      " N = 10 [int]\n",
      " a = 2.0 [float]\n",
      " b = 1.0 [float]\n",
      " threads = 4 [int]\n",
      " txt = a [str]\n",
      " txtlist = N|threads [str]\n",
      " X = ndarray with shape = (10,) [dtype: float64]\n",
      " memory, gb: 0.0\n",
      "\n"
     ]
    }
   ],
   "source": [
    "print(model)"
   ]
  },
  {
   "cell_type": "markdown",
   "metadata": {},
   "source": [
    "**Updating at initialization:**"
   ]
  },
  {
   "cell_type": "code",
   "execution_count": 6,
   "metadata": {},
   "outputs": [
    {
     "name": "stdout",
     "output_type": "stream",
     "text": [
      "3.0\n"
     ]
    }
   ],
   "source": [
    "model_alt = MyModelClass(name='alt',par={'a':3.0,'b':1.2})\n",
    "print(model_alt.par.a)"
   ]
  },
  {
   "cell_type": "markdown",
   "metadata": {},
   "source": [
    "**Unpack for later use:**"
   ]
  },
  {
   "cell_type": "code",
   "execution_count": 7,
   "metadata": {},
   "outputs": [],
   "source": [
    "par = model.par\n",
    "sol = model.sol"
   ]
  },
  {
   "cell_type": "markdown",
   "metadata": {},
   "source": [
    "**Under the hood:** Each namespace is techically a `SimpleNamespace` (from `types`)"
   ]
  },
  {
   "cell_type": "code",
   "execution_count": 8,
   "metadata": {},
   "outputs": [
    {
     "data": {
      "text/plain": [
       "types.SimpleNamespace"
      ]
     },
     "execution_count": 8,
     "metadata": {},
     "output_type": "execute_result"
    }
   ],
   "source": [
    "type(par)"
   ]
  },
  {
   "cell_type": "markdown",
   "metadata": {},
   "source": [
    "### Copy, save and load"
   ]
  },
  {
   "cell_type": "code",
   "execution_count": 9,
   "metadata": {},
   "outputs": [],
   "source": [
    "model_copy = model.copy(name='example_copy')\n",
    "model_copy.save()"
   ]
  },
  {
   "cell_type": "code",
   "execution_count": 10,
   "metadata": {},
   "outputs": [
    {
     "name": "stdout",
     "output_type": "stream",
     "text": [
      "Modelclass: MyModelClass\n",
      "Name: example_copy\n",
      "\n",
      "namespaces: ['sol', 'sim', 'par']\n",
      "other_attrs: []\n",
      "savefolder: saved\n",
      "cpp_filename: None\n",
      "\n",
      "sol:\n",
      " Y = ndarray with shape = (10,) [dtype: float64]\n",
      " memory, gb: 0.0\n",
      "\n",
      "sim:\n",
      " memory, gb: 0.0\n",
      "\n",
      "par:\n",
      " N = 10 [int]\n",
      " a = 2.0 [float]\n",
      " b = 1.0 [float]\n",
      " threads = 4 [int]\n",
      " txt = a [str]\n",
      " txtlist = N|threads [str]\n",
      " X = ndarray with shape = (10,) [dtype: float64]\n",
      " memory, gb: 0.0\n",
      "\n"
     ]
    }
   ],
   "source": [
    "model_loaded = MyModelClass(name='example_copy',load=True)\n",
    "print(model_loaded)"
   ]
  },
  {
   "cell_type": "markdown",
   "metadata": {},
   "source": [
    "### To and from dictionary "
   ]
  },
  {
   "cell_type": "code",
   "execution_count": 11,
   "metadata": {},
   "outputs": [
    {
     "name": "stdout",
     "output_type": "stream",
     "text": [
      "Modelclass: MyModelClass\n",
      "Name: example_dict\n",
      "\n",
      "namespaces: ['sol', 'sim', 'par']\n",
      "other_attrs: []\n",
      "savefolder: saved\n",
      "cpp_filename: None\n",
      "\n",
      "sol:\n",
      " Y = ndarray with shape = (10,) [dtype: float64]\n",
      " memory, gb: 0.0\n",
      "\n",
      "sim:\n",
      " memory, gb: 0.0\n",
      "\n",
      "par:\n",
      " N = 10 [int]\n",
      " a = 2.0 [float]\n",
      " b = 1.0 [float]\n",
      " threads = 4 [int]\n",
      " txt = a [str]\n",
      " txtlist = N|threads [str]\n",
      " X = ndarray with shape = (10,) [dtype: float64]\n",
      " memory, gb: 0.0\n",
      "\n"
     ]
    }
   ],
   "source": [
    "modeldict = model.as_dict()\n",
    "model_dict = MyModelClass(name='example_dict',from_dict=modeldict)\n",
    "print(model_dict)"
   ]
  },
  {
   "cell_type": "markdown",
   "metadata": {},
   "source": [
    "## Numba"
   ]
  },
  {
   "cell_type": "markdown",
   "metadata": {},
   "source": [
    "**Goal:** Call [numba](http://numba.pydata.org/) JIT compilled functions easily using namespaces.\n",
    "\n",
    "**Problem:** [numba](http://numba.pydata.org/) only allows specific types (and not e.g. `SimpleNamespace`).\n",
    "\n",
    "**Under-the-hood:** `jit(model)` temporarily turns all namespaces into `namedtuples`, which can be used as input in JIT compilled functions. "
   ]
  },
  {
   "cell_type": "code",
   "execution_count": 12,
   "metadata": {},
   "outputs": [],
   "source": [
    "@nb.njit\n",
    "def fun(par,sol):\n",
    "    sol.Y[:] = par.X*(par.a+par.b)"
   ]
  },
  {
   "cell_type": "code",
   "execution_count": 13,
   "metadata": {},
   "outputs": [],
   "source": [
    "def test_numba(model):\n",
    "    with jit(model) as model_jit:\n",
    "        fun(model_jit.par,model_jit.sol)"
   ]
  },
  {
   "cell_type": "code",
   "execution_count": 14,
   "metadata": {},
   "outputs": [],
   "source": [
    "test_numba(model)"
   ]
  },
  {
   "cell_type": "code",
   "execution_count": 15,
   "metadata": {},
   "outputs": [
    {
     "name": "stdout",
     "output_type": "stream",
     "text": [
      "CPU times: total: 0 ns\n",
      "Wall time: 0 ns\n",
      "CPU times: total: 0 ns\n",
      "Wall time: 0 ns\n"
     ]
    }
   ],
   "source": [
    "%time test_numba(model)\n",
    "%time test_numba(model)"
   ]
  },
  {
   "cell_type": "markdown",
   "metadata": {},
   "source": [
    "**Note:** The first run is slower due to compiling."
   ]
  },
  {
   "cell_type": "markdown",
   "metadata": {},
   "source": [
    "**Check result:**"
   ]
  },
  {
   "cell_type": "code",
   "execution_count": 16,
   "metadata": {},
   "outputs": [],
   "source": [
    "assert np.allclose(par.X*(par.a+par.b),sol.Y)"
   ]
  },
  {
   "cell_type": "markdown",
   "metadata": {},
   "source": [
    "### Advanced: Recompilling"
   ]
  },
  {
   "cell_type": "markdown",
   "metadata": {},
   "source": [
    "When a new model is created, re-compilation of JIT functions are normally necessary:"
   ]
  },
  {
   "cell_type": "code",
   "execution_count": 17,
   "metadata": {},
   "outputs": [
    {
     "name": "stdout",
     "output_type": "stream",
     "text": [
      "CPU times: total: 375 ms\n",
      "Wall time: 386 ms\n",
      "CPU times: total: 0 ns\n",
      "Wall time: 0 ns\n"
     ]
    }
   ],
   "source": [
    "model_new = MyModelClass(name='numba_new')\n",
    "%time test_numba(model_new)\n",
    "%time test_numba(model_new)"
   ]
  },
  {
   "cell_type": "markdown",
   "metadata": {},
   "source": [
    "This is *not* the case, when a copy is made instead:"
   ]
  },
  {
   "cell_type": "code",
   "execution_count": 18,
   "metadata": {},
   "outputs": [
    {
     "name": "stdout",
     "output_type": "stream",
     "text": [
      "CPU times: total: 0 ns\n",
      "Wall time: 0 ns\n"
     ]
    }
   ],
   "source": [
    "model_new_ = model_new.copy(name='numba_new_copy')\n",
    "%time test_numba(model_new_)"
   ]
  },
  {
   "cell_type": "markdown",
   "metadata": {},
   "source": [
    "### Advanced: Type inference"
   ]
  },
  {
   "cell_type": "markdown",
   "metadata": {},
   "source": [
    "When the model is created **all types are infered** and the information is saved in the nested-dict `_ns_specs`. E.g.:"
   ]
  },
  {
   "cell_type": "code",
   "execution_count": 19,
   "metadata": {},
   "outputs": [
    {
     "data": {
      "text/plain": [
       "{'sol': {'Y': [numpy.ndarray]},\n",
       " 'sim': {},\n",
       " 'par': {'N': [int, numpy.int32],\n",
       "  'a': [float, numpy.float64],\n",
       "  'b': [float, numpy.float64],\n",
       "  'threads': [int, numpy.int32],\n",
       "  'txt': [str],\n",
       "  'txtlist': [str],\n",
       "  'X': [numpy.ndarray]}}"
      ]
     },
     "execution_count": 19,
     "metadata": {},
     "output_type": "execute_result"
    }
   ],
   "source": [
    "model._ns_specs['types']"
   ]
  },
  {
   "cell_type": "code",
   "execution_count": 20,
   "metadata": {},
   "outputs": [
    {
     "data": {
      "text/plain": [
       "{'sol': {'Y': dtype('float64')}, 'sim': {}, 'par': {'X': dtype('float64')}}"
      ]
     },
     "execution_count": 20,
     "metadata": {},
     "output_type": "execute_result"
    }
   ],
   "source": [
    "model._ns_specs['np_dtypes']"
   ]
  },
  {
   "cell_type": "code",
   "execution_count": 21,
   "metadata": {},
   "outputs": [
    {
     "data": {
      "text/plain": [
       "{'sol': {'Y': 1}, 'sim': {}, 'par': {'X': 1}}"
      ]
     },
     "execution_count": 21,
     "metadata": {},
     "output_type": "execute_result"
    }
   ],
   "source": [
    "model._ns_specs['np_ndims']"
   ]
  },
  {
   "cell_type": "markdown",
   "metadata": {},
   "source": [
    "**The types must NOT change afterwards**. If they do, an error is raised when using  `jit`."
   ]
  },
  {
   "cell_type": "code",
   "execution_count": 22,
   "metadata": {},
   "outputs": [],
   "source": [
    "def test_numba_errors(model):\n",
    "    try:\n",
    "        test_numba(model)\n",
    "    except ValueError as e:\n",
    "        print(f'ValueError: {e}')\n",
    "    else:\n",
    "        print('no errors raised')"
   ]
  },
  {
   "cell_type": "code",
   "execution_count": 23,
   "metadata": {},
   "outputs": [
    {
     "name": "stdout",
     "output_type": "stream",
     "text": [
      "ValueError: par.a has type <class 'int'>, should be in [<class 'float'>, <class 'numpy.float64'>]\n"
     ]
    }
   ],
   "source": [
    "model_test = model.copy()\n",
    "model_test.par.a = 1\n",
    "test_numba_errors(model_test)"
   ]
  },
  {
   "cell_type": "code",
   "execution_count": 24,
   "metadata": {},
   "outputs": [
    {
     "name": "stdout",
     "output_type": "stream",
     "text": [
      "ValueError: c is not allowed in .par\n"
     ]
    }
   ],
   "source": [
    "model_test = model.copy()\n",
    "model_test.par.c = np.nan\n",
    "test_numba_errors(model_test)"
   ]
  },
  {
   "cell_type": "code",
   "execution_count": 25,
   "metadata": {},
   "outputs": [
    {
     "name": "stdout",
     "output_type": "stream",
     "text": [
      "ValueError: par.X has ndim 2, should be 1\n"
     ]
    }
   ],
   "source": [
    "model_test = model.copy()\n",
    "model_test.par.X = np.zeros((1,1))\n",
    "test_numba_errors(model_test)"
   ]
  },
  {
   "cell_type": "code",
   "execution_count": 26,
   "metadata": {},
   "outputs": [
    {
     "name": "stdout",
     "output_type": "stream",
     "text": [
      "ValueError: par.X has dtype int32, should be float64\n"
     ]
    }
   ],
   "source": [
    "model_test = model.copy()\n",
    "model_test.par.X = model.par.X.astype('int')\n",
    "test_numba_errors(model_test)"
   ]
  },
  {
   "cell_type": "markdown",
   "metadata": {},
   "source": [
    "**If types *must* to be changed, then it is necessary to re-infer types:**"
   ]
  },
  {
   "cell_type": "code",
   "execution_count": 27,
   "metadata": {},
   "outputs": [
    {
     "name": "stdout",
     "output_type": "stream",
     "text": [
      "no errors raised\n",
      "ValueError: par.a has type <class 'float'>, should be in [<class 'int'>, <class 'numpy.int32'>]\n"
     ]
    }
   ],
   "source": [
    "model_test = model.copy()\n",
    "model_test.par.a = 1\n",
    "model_test.infer_types()\n",
    "test_numba_errors(model_test)\n",
    "model_test.par.a = 1.0\n",
    "test_numba_errors(model_test)"
   ]
  },
  {
   "cell_type": "markdown",
   "metadata": {},
   "source": [
    "**Namedtuples** are immutables, so attributes cannot be changed while using `jit`:"
   ]
  },
  {
   "cell_type": "code",
   "execution_count": 28,
   "metadata": {},
   "outputs": [
    {
     "name": "stderr",
     "output_type": "stream",
     "text": [
      "Traceback (most recent call last):\n",
      "  File \"C:\\Users\\hms467\\AppData\\Local\\Temp\\ipykernel_12056\\2942967087.py\", line 3, in <cell line: 1>\n",
      "    model_jit.par.a = 3.0\n",
      "AttributeError: can't set attribute\n"
     ]
    }
   ],
   "source": [
    "try:\n",
    "    with jit(model,show_exc=True) as model_jit:\n",
    "        model_jit.par.a = 3.0\n",
    "except AttributeError as e:\n",
    "    pass"
   ]
  },
  {
   "cell_type": "markdown",
   "metadata": {},
   "source": [
    "## In-class exercise"
   ]
  },
  {
   "cell_type": "markdown",
   "metadata": {},
   "source": [
    "1. Look at the notebook above and talk about it with the person next to you for 3 minutes\n",
    "2. Write at least one question on https://padlet.com/jeppe_druedahl/advmacrohet"
   ]
  },
  {
   "cell_type": "markdown",
   "metadata": {},
   "source": [
    "# Consumption-Saving Model"
   ]
  },
  {
   "cell_type": "markdown",
   "metadata": {},
   "source": [
    "**Additional packages to consider:**\n",
    "\n",
    "1. [quantecon](https://quantecon.org/)\n",
    "2. [consav](https://github.com/NumEconCopenhagen/ConsumptionSaving) ([notebooks](https://github.com/NumEconCopenhagen/ConsumptionSavingNotebooks))"
   ]
  },
  {
   "cell_type": "markdown",
   "metadata": {},
   "source": [
    "**Local model file:**"
   ]
  },
  {
   "cell_type": "code",
   "execution_count": 29,
   "metadata": {},
   "outputs": [],
   "source": [
    "from ConSavModel import ConSavModelClass"
   ]
  },
  {
   "cell_type": "markdown",
   "metadata": {},
   "source": [
    "## Setup"
   ]
  },
  {
   "cell_type": "code",
   "execution_count": 30,
   "metadata": {},
   "outputs": [],
   "source": [
    "model_vfi = ConSavModelClass()"
   ]
  },
  {
   "cell_type": "code",
   "execution_count": 31,
   "metadata": {},
   "outputs": [],
   "source": [
    "par = model_vfi.par\n",
    "sol = model_vfi.sol\n",
    "sim = model_vfi.sim"
   ]
  },
  {
   "cell_type": "markdown",
   "metadata": {},
   "source": [
    "**Grids:**"
   ]
  },
  {
   "cell_type": "code",
   "execution_count": 32,
   "metadata": {},
   "outputs": [
    {
     "data": {
      "image/png": "[encoded data removed]",
      "text/plain": [
       "<Figure size 432x288 with 1 Axes>"
      ]
     },
     "metadata": {},
     "output_type": "display_data"
    }
   ],
   "source": [
    "fig = plt.figure()\n",
    "ax = fig.add_subplot(1,1,1)\n",
    "\n",
    "z_grid,a_grid = np.meshgrid(par.z_grid,par.a_grid,indexing='ij')\n",
    "ax.scatter(z_grid,a_grid,2)\n",
    "\n",
    "ax.set_yscale('log')\n",
    "ax.set_xlabel('$z_t$')\n",
    "ax.set_ylabel('$a_{t-1}$');"
   ]
  },
  {
   "cell_type": "markdown",
   "metadata": {},
   "source": [
    "**Transition matrix for $z_t$:**"
   ]
  },
  {
   "cell_type": "code",
   "execution_count": 33,
   "metadata": {},
   "outputs": [
    {
     "data": {
      "image/png": "[encoded data removed]",
      "text/plain": [
       "<Figure size 432x288 with 1 Axes>"
      ]
     },
     "metadata": {},
     "output_type": "display_data"
    }
   ],
   "source": [
    "fig = plt.figure()\n",
    "ax = fig.add_subplot(1,1,1)\n",
    "ax.grid(False)\n",
    "h = ax.matshow(par.z_trans,cmap='Pastel1')\n",
    "\n",
    "for (i, j), value in np.ndenumerate(par.z_trans):\n",
    "    ax.text(j, i, f'{value:0.2f}', ha='center', va='center')\n",
    "    \n",
    "z_labels = [f'{z:.2f}' for z in par.z_grid]\n",
    "xaxis = np.arange(par.z_grid.size)\n",
    "ax.set_xticks(xaxis)\n",
    "ax.set_xticklabels(z_labels) \n",
    "ax.set_yticks(xaxis)\n",
    "ax.set_yticklabels(z_labels) \n",
    "\n",
    "ax.set_xlabel('$z_{t}$')\n",
    "ax.set_ylabel('$z_{t-1}$');"
   ]
  },
  {
   "cell_type": "markdown",
   "metadata": {},
   "source": [
    "**Ergodic distribution:**"
   ]
  },
  {
   "cell_type": "code",
   "execution_count": 34,
   "metadata": {},
   "outputs": [
    {
     "data": {
      "image/png": "[encoded data removed]",
      "text/plain": [
       "<Figure size 432x288 with 1 Axes>"
      ]
     },
     "metadata": {},
     "output_type": "display_data"
    }
   ],
   "source": [
    "fig = plt.figure()\n",
    "ax = fig.add_subplot(1,1,1)\n",
    "ax.plot(par.z_grid,par.z_ergodic,'-o',label='pdf')\n",
    "ax.axvline(np.sum(par.z_ergodic*par.z_grid),color='black',label='mean')\n",
    "ax.set_xlabel('$z_t$')\n",
    "ax.set_ylabel('probability')\n",
    "ax.legend(frameon=True);"
   ]
  },
  {
   "cell_type": "markdown",
   "metadata": {},
   "source": [
    "**Cummulative distributions:**"
   ]
  },
  {
   "cell_type": "code",
   "execution_count": 35,
   "metadata": {},
   "outputs": [
    {
     "data": {
      "image/png": "[encoded data removed]",
      "text/plain": [
       "<Figure size 432x288 with 1 Axes>"
      ]
     },
     "metadata": {},
     "output_type": "display_data"
    }
   ],
   "source": [
    "fig = plt.figure()\n",
    "ax = fig.add_subplot(1,1,1)\n",
    "\n",
    "for i_z in [0,par.Nz//2,par.Nz-1]:\n",
    "    ax.plot(par.z_grid,par.z_trans_cumsum[i_z,:],'-o',label=f'{par.z_grid[i_z]:.2f}')\n",
    "ax.plot(par.z_grid,par.z_ergodic_cumsum,'-o',color='black',label='ergodic')\n",
    "\n",
    "ax.set_xlabel('$z_t$')\n",
    "ax.set_ylabel('cdf')\n",
    "ax.legend(frameon=True);"
   ]
  },
  {
   "cell_type": "markdown",
   "metadata": {},
   "source": [
    "## Solve - value function interation (vfi)"
   ]
  },
  {
   "cell_type": "code",
   "execution_count": 36,
   "metadata": {},
   "outputs": [
    {
     "name": "stdout",
     "output_type": "stream",
     "text": [
      "iteration    0 solved in 25.2 secs [max abs. diff. in c 5.03e+01]\n",
      "iteration    1 solved in 0.1 secs [max abs. diff. in c 1.68e+01]\n",
      "iteration    2 solved in 0.1 secs [max abs. diff. in c 8.29e+00]\n",
      "iteration    3 solved in 0.1 secs [max abs. diff. in c 5.12e+00]\n",
      "iteration    4 solved in 0.1 secs [max abs. diff. in c 3.24e+00]\n",
      "iteration    5 solved in 0.1 secs [max abs. diff. in c 2.47e+00]\n",
      "iteration    6 solved in 0.1 secs [max abs. diff. in c 1.75e+00]\n",
      "iteration    7 solved in 0.1 secs [max abs. diff. in c 1.45e+00]\n",
      "iteration    8 solved in 0.1 secs [max abs. diff. in c 1.13e+00]\n",
      "iteration    9 solved in 0.1 secs [max abs. diff. in c 8.97e-01]\n",
      "iteration  100 solved in 0.1 secs [max abs. diff. in c 3.58e-03]\n",
      "iteration  200 solved in 0.1 secs [max abs. diff. in c 1.12e-04]\n",
      "iteration  209 solved in 0.1 secs [max abs. diff. in c 0.00e+00]\n",
      "model solved in 38.9 secs\n"
     ]
    }
   ],
   "source": [
    "model_vfi.solve(do_print=True,algo='vfi')"
   ]
  },
  {
   "cell_type": "markdown",
   "metadata": {},
   "source": [
    "**Question:** What role does the argument `c_plus` play in `solve_hh_backwards_vfi`?"
   ]
  },
  {
   "cell_type": "markdown",
   "metadata": {},
   "source": [
    "## Plot change in savings function"
   ]
  },
  {
   "cell_type": "code",
   "execution_count": 37,
   "metadata": {},
   "outputs": [
    {
     "data": {
      "image/png": "[encoded data removed]",
      "text/plain": [
       "<Figure size 432x288 with 1 Axes>"
      ]
     },
     "metadata": {},
     "output_type": "display_data"
    }
   ],
   "source": [
    "fig = plt.figure()\n",
    "ax = fig.add_subplot(1,1,1)\n",
    "for i_z in range(par.Nz):\n",
    "    ax.plot(par.a_grid,sol.a[i_z,:]-par.a_grid)\n",
    "    \n",
    "ax.set_xlabel('$a_{t-1}$')\n",
    "ax.set_ylabel('$a_t^{\\\\ast}-a_{t-1}$');"
   ]
  },
  {
   "cell_type": "markdown",
   "metadata": {},
   "source": [
    "**Note:** Good this ends up negative, then we do not extrapolate beyond the grid."
   ]
  },
  {
   "cell_type": "markdown",
   "metadata": {},
   "source": [
    "## Simulate - monte carlo "
   ]
  },
  {
   "cell_type": "code",
   "execution_count": 38,
   "metadata": {},
   "outputs": [],
   "source": [
    "model_mc = model_vfi.copy()"
   ]
  },
  {
   "cell_type": "code",
   "execution_count": 39,
   "metadata": {},
   "outputs": [
    {
     "name": "stdout",
     "output_type": "stream",
     "text": [
      "model prepared for simulation in 0.4 secs\n",
      "model simulated in 1.7 secs\n"
     ]
    }
   ],
   "source": [
    "model_mc.prepare_simulate(algo='mc')\n",
    "model_mc.simulate(algo='mc')"
   ]
  },
  {
   "cell_type": "markdown",
   "metadata": {
    "tags": []
   },
   "source": [
    "## Simulate - historgram"
   ]
  },
  {
   "cell_type": "code",
   "execution_count": 40,
   "metadata": {},
   "outputs": [],
   "source": [
    "model_hist = model_vfi.copy()"
   ]
  },
  {
   "cell_type": "code",
   "execution_count": 41,
   "metadata": {},
   "outputs": [
    {
     "name": "stdout",
     "output_type": "stream",
     "text": [
      "model prepared for simulation in 0.0 secs\n",
      "model simulated in 1.4 secs\n"
     ]
    }
   ],
   "source": [
    "model_hist.prepare_simulate(algo='hist')\n",
    "model_hist.simulate(algo='hist')"
   ]
  },
  {
   "cell_type": "markdown",
   "metadata": {},
   "source": [
    "### The matrix formulation"
   ]
  },
  {
   "cell_type": "markdown",
   "metadata": {},
   "source": [
    "**The stochastic transition:**"
   ]
  },
  {
   "cell_type": "code",
   "execution_count": 42,
   "metadata": {},
   "outputs": [],
   "source": [
    "# a. build\n",
    "Pi_z = np.zeros((par.Nz*par.Na,par.Nz*par.Na))\n",
    "\n",
    "i = 0\n",
    "for i_z_lag in range(par.Nz):\n",
    "    for i_a_lag in range(par.Na):\n",
    "        j = 0\n",
    "        for i_z in range(par.Nz):\n",
    "            for i_a_lag_ in range(par.Na):\n",
    "                if i_a_lag == i_a_lag_: # does not change\n",
    "                    Pi_z[i,j] = par.z_trans[i_z_lag,i_z]                     \n",
    "                else:\n",
    "                    Pi_z[i,j] = 0.0\n",
    "                j += 1\n",
    "        i += 1\n",
    "        \n",
    "# b. check\n",
    "t = 0\n",
    "D = Pi_z.T@model_hist.sim.Dbeg[t].ravel()\n",
    "max_abs_diff = np.max(np.abs(D-model_hist.sim.D[t].ravel()))\n",
    "assert np.isclose(max_abs_diff,0.0)"
   ]
  },
  {
   "cell_type": "markdown",
   "metadata": {},
   "source": [
    "**The choice transition:**"
   ]
  },
  {
   "cell_type": "code",
   "execution_count": 43,
   "metadata": {},
   "outputs": [],
   "source": [
    "# a. build\n",
    "Lambda = np.zeros((par.Nz*par.Na,par.Nz*par.Na))\n",
    "\n",
    "i = 0\n",
    "for i_z in range(par.Nz):\n",
    "    for i_a_lag in range(par.Na):\n",
    "        j = 0\n",
    "        for i_z_ in range(par.Nz):\n",
    "            for i_a in range(par.Na):\n",
    "                if i_z == i_z_ and i_a == model_hist.sol.pol_indices[i_z,i_a_lag]:\n",
    "                    Lambda[i,j] = model_hist.sol.pol_weights[i_z,i_a_lag]\n",
    "                elif i_z == i_z_ and i_a == model_hist.sol.pol_indices[i_z,i_a_lag]+1:\n",
    "                    Lambda[i,j] = 1-model_hist.sol.pol_weights[i_z,i_a_lag]\n",
    "                else:\n",
    "                    Pi_z[i,j] = 0.0\n",
    "                j += 1\n",
    "        i += 1\n",
    "        \n",
    "# b. check\n",
    "t = 0\n",
    "Dbeg_plus = Lambda.T@model_hist.sim.D[t].ravel()\n",
    "max_abs_diff = np.max(np.abs(Dbeg_plus-model_hist.sim.Dbeg[t+1].ravel()))\n",
    "assert np.isclose(max_abs_diff,0.0)"
   ]
  },
  {
   "cell_type": "markdown",
   "metadata": {},
   "source": [
    "## Compare simulation methods"
   ]
  },
  {
   "cell_type": "markdown",
   "metadata": {},
   "source": [
    "**Aggregate savings in last 100 periods on average:**"
   ]
  },
  {
   "cell_type": "code",
   "execution_count": 44,
   "metadata": {},
   "outputs": [
    {
     "name": "stdout",
     "output_type": "stream",
     "text": [
      "A_mc   =  1.2315\n",
      "A_hist =  1.2352\n"
     ]
    }
   ],
   "source": [
    "A_mc = np.mean(model_mc.sim.a[-100:])\n",
    "A_hist = np.sum(model_hist.sol.a*model_hist.sim.D[-100:])/100\n",
    "\n",
    "print(f'{A_mc   = :7.4f}')\n",
    "print(f'{A_hist = :7.4f}')"
   ]
  },
  {
   "cell_type": "markdown",
   "metadata": {},
   "source": [
    "**CDF:**"
   ]
  },
  {
   "cell_type": "code",
   "execution_count": 45,
   "metadata": {},
   "outputs": [
    {
     "data": {
      "image/png": "[encoded data removed]",
      "text/plain": [
       "<Figure size 432x288 with 1 Axes>"
      ]
     },
     "metadata": {},
     "output_type": "display_data"
    }
   ],
   "source": [
    "fig = plt.figure()\n",
    "ax = fig.add_subplot(1,1,1)\n",
    "\n",
    "CDF_mc = np.zeros(par.Na)\n",
    "for i_a in range(par.Na):\n",
    "    CDF_mc[i_a] = np.sum(model_mc.sim.a[-1,:] < par.a_grid[i_a])/par.simN\n",
    "\n",
    "CDF_hist = np.cumsum(np.sum(model_hist.sim.D[-1],axis=(0,)))\n",
    "\n",
    "ax.plot(par.a_grid,CDF_mc,lw=2,label='monte carlo')\n",
    "ax.plot(par.a_grid,CDF_hist,ls='--',lw=2,label='historgram')\n",
    "\n",
    "ax.set_xlim([0.0,10.0])\n",
    "ax.legend(frameon=True);"
   ]
  },
  {
   "cell_type": "markdown",
   "metadata": {},
   "source": [
    "**Question 1:** How many liquidity constraints are there in the model?\n",
    "\n",
    "**Question 2:** Look at the figure below. Does `simT` and `simN` matter for the distribution?"
   ]
  },
  {
   "cell_type": "code",
   "execution_count": 46,
   "metadata": {},
   "outputs": [
    {
     "data": {
      "image/png": "[encoded data removed]",
      "text/plain": [
       "<Figure size 432x288 with 1 Axes>"
      ]
     },
     "metadata": {},
     "output_type": "display_data"
    }
   ],
   "source": [
    "fig = plt.figure()\n",
    "ax = fig.add_subplot(1,1,1)\n",
    "\n",
    "A_mc = np.mean(model_mc.sim.a,axis=1)\n",
    "A_hist = np.sum(model_hist.sim.D*model_hist.sol.a,axis=(1,2))\n",
    "\n",
    "ax.plot(A_mc,lw=2,label='monte carlo')\n",
    "ax.plot(A_hist,ls='--',lw=2,label='historgram')\n",
    "\n",
    "ax.legend(frameon=True);"
   ]
  },
  {
   "cell_type": "markdown",
   "metadata": {},
   "source": [
    "## In-class exercise"
   ]
  },
  {
   "cell_type": "markdown",
   "metadata": {},
   "source": [
    "1. Look at the code and talk about it with the person next to you for 5 minutes\n",
    "2. Write at least one question on https://padlet.com/jeppe_druedahl/advmacrohet"
   ]
  },
  {
   "cell_type": "markdown",
   "metadata": {
    "tags": []
   },
   "source": [
    "## Solve - endogenous grid method (egm)"
   ]
  },
  {
   "cell_type": "code",
   "execution_count": 47,
   "metadata": {},
   "outputs": [],
   "source": [
    "model_egm = model_vfi.copy()"
   ]
  },
  {
   "cell_type": "code",
   "execution_count": 48,
   "metadata": {},
   "outputs": [
    {
     "name": "stdout",
     "output_type": "stream",
     "text": [
      "iteration    0 solved in 1.1 secs [max abs. diff. in c 5.02e+01]\n",
      "iteration    1 solved in 0.0 secs [max abs. diff. in c 1.68e+01]\n",
      "iteration    2 solved in 0.0 secs [max abs. diff. in c 8.39e+00]\n",
      "iteration    3 solved in 0.0 secs [max abs. diff. in c 5.04e+00]\n",
      "iteration    4 solved in 0.0 secs [max abs. diff. in c 3.36e+00]\n",
      "iteration    5 solved in 0.0 secs [max abs. diff. in c 2.40e+00]\n",
      "iteration    6 solved in 0.0 secs [max abs. diff. in c 1.80e+00]\n",
      "iteration    7 solved in 0.0 secs [max abs. diff. in c 1.40e+00]\n",
      "iteration    8 solved in 0.0 secs [max abs. diff. in c 1.12e+00]\n",
      "iteration    9 solved in 0.0 secs [max abs. diff. in c 9.20e-01]\n",
      "iteration  100 solved in 0.0 secs [max abs. diff. in c 3.44e-03]\n",
      "iteration  200 solved in 0.0 secs [max abs. diff. in c 3.38e-06]\n",
      "iteration  271 solved in 0.0 secs [max abs. diff. in c 9.54e-09]\n",
      "model solved in 1.2 secs\n"
     ]
    }
   ],
   "source": [
    "model_egm.solve(do_print=True,algo='egm')"
   ]
  },
  {
   "cell_type": "markdown",
   "metadata": {},
   "source": [
    "**Question:** Why is `egm` so much faster than `vfi`?"
   ]
  },
  {
   "cell_type": "markdown",
   "metadata": {},
   "source": [
    "## Compare solution methods"
   ]
  },
  {
   "cell_type": "code",
   "execution_count": 49,
   "metadata": {},
   "outputs": [
    {
     "data": {
      "image/png": "[encoded data removed]",
      "text/plain": [
       "<Figure size 432x288 with 1 Axes>"
      ]
     },
     "metadata": {},
     "output_type": "display_data"
    }
   ],
   "source": [
    "fig = plt.figure()\n",
    "ax = fig.add_subplot(1,1,1)\n",
    "for i_z in range(par.Nz):\n",
    "    ax.plot(par.a_grid,model_egm.sol.a[i_z,:]-model_vfi.sol.a[i_z,:])"
   ]
  },
  {
   "cell_type": "markdown",
   "metadata": {},
   "source": [
    "### Exercises"
   ]
  },
  {
   "cell_type": "code",
   "execution_count": 420,
   "metadata": {},
   "outputs": [],
   "source": [
    "from ConSavModel_copy import ConSavModelClass"
   ]
  },
  {
   "cell_type": "code",
   "execution_count": 421,
   "metadata": {},
   "outputs": [],
   "source": [
    "# The borrowing allowance cannot be much larger than 0.3, because then consumption can be forced to be zero via the income shock\n",
    "model = ConSavModelClass(par={'b':0.1})"
   ]
  },
  {
   "cell_type": "code",
   "execution_count": 422,
   "metadata": {},
   "outputs": [
    {
     "data": {
      "text/plain": [
       "(7, 1, 500)"
      ]
     },
     "execution_count": 422,
     "metadata": {},
     "output_type": "execute_result"
    }
   ],
   "source": [
    "model.sol.c.shape"
   ]
  },
  {
   "cell_type": "code",
   "execution_count": 423,
   "metadata": {},
   "outputs": [
    {
     "data": {
      "text/plain": [
       "(7, 7)"
      ]
     },
     "execution_count": 423,
     "metadata": {},
     "output_type": "execute_result"
    }
   ],
   "source": [
    "model.par.z_trans.shape"
   ]
  },
  {
   "cell_type": "code",
   "execution_count": 424,
   "metadata": {},
   "outputs": [
    {
     "data": {
      "text/plain": [
       "(7, 1)"
      ]
     },
     "execution_count": 424,
     "metadata": {},
     "output_type": "execute_result"
    }
   ],
   "source": [
    "np.einsum('ij,jnk,k->in',model.par.z_trans,model.sol.c, np.array([1])).shape"
   ]
  },
  {
   "cell_type": "code",
   "execution_count": 445,
   "metadata": {},
   "outputs": [
    {
     "data": {
      "text/plain": [
       "array([[  0.40543394,   0.40851597,   0.41163525, ..., 100.07732286,\n",
       "        101.28507909, 102.50743349],\n",
       "       [  0.53697245,   0.54005448,   0.54317377, ..., 100.20886144,\n",
       "        101.41661787, 102.63897133],\n",
       "       [  0.71097768,   0.71405971,   0.71717899, ..., 100.38286665,\n",
       "        101.59062292, 102.8129773 ],\n",
       "       ...,\n",
       "       [  1.24565544,   1.24873748,   1.25185676, ..., 100.91754426,\n",
       "        102.12530103, 103.34765524],\n",
       "       [  1.64845631,   1.65153834,   1.65465763, ..., 101.32034547,\n",
       "        102.52810126, 103.75045574],\n",
       "       [  2.18129992,   2.18438195,   2.18750124, ..., 101.8531884 ,\n",
       "        103.06094547, 104.28329968]])"
      ]
     },
     "execution_count": 445,
     "metadata": {},
     "output_type": "execute_result"
    }
   ],
   "source": [
    "(model.par.z_trans@model.sol.c[:,0,:])"
   ]
  },
  {
   "cell_type": "code",
   "execution_count": 430,
   "metadata": {},
   "outputs": [],
   "source": [
    "vbeg = np.zeros(model.sol.c.shape)\n",
    "exp_xi_V = model.par.xi_trans@model.sol.c\n",
    "\n",
    "# Expectation over z for each xi case \n",
    "for i_xi in range(model.par.Nxi):\n",
    "    vbeg[:,i_xi,:] += model.par.z_trans@exp_xi_V[:,i_xi,:]"
   ]
  },
  {
   "cell_type": "code",
   "execution_count": 426,
   "metadata": {},
   "outputs": [
    {
     "data": {
      "text/plain": [
       "(7, 1, 500)"
      ]
     },
     "execution_count": 426,
     "metadata": {},
     "output_type": "execute_result"
    }
   ],
   "source": [
    "(model.par.xi_trans@model.sol.c).shape"
   ]
  },
  {
   "cell_type": "code",
   "execution_count": 448,
   "metadata": {},
   "outputs": [
    {
     "data": {
      "text/plain": [
       "(7, 1, 500)"
      ]
     },
     "execution_count": 448,
     "metadata": {},
     "output_type": "execute_result"
    }
   ],
   "source": [
    "x = np.zeros(model.sol.c.shape)\n",
    "\n",
    "for i_z in range(model.par.Nz):\n",
    "    x[i_z,:,:] = model.par.xi_trans@model.sol.c[i_z,:,:]\n",
    "\n",
    "\n",
    "x.shape"
   ]
  },
  {
   "cell_type": "code",
   "execution_count": 441,
   "metadata": {},
   "outputs": [
    {
     "data": {
      "text/plain": [
       "(7, 1, 500)"
      ]
     },
     "execution_count": 441,
     "metadata": {},
     "output_type": "execute_result"
    }
   ],
   "source": [
    "np.dot(model.par.z_trans,np.dot(model.par.xi_trans,model.sol.c)).shape"
   ]
  },
  {
   "cell_type": "code",
   "execution_count": 453,
   "metadata": {},
   "outputs": [
    {
     "ename": "ValueError",
     "evalue": "shape-mismatch for sum",
     "output_type": "error",
     "traceback": [
      "\u001b[1;31m---------------------------------------------------------------------------\u001b[0m",
      "\u001b[1;31mValueError\u001b[0m                                Traceback (most recent call last)",
      "\u001b[1;32mc:\\Users\\hms467\\OneDrive - University of Copenhagen\\Documents\\Uni\\11. semester\\AMHA\\AdvMacroHet\\01\\Introduction copy.ipynb Cell 117\u001b[0m in \u001b[0;36m<cell line: 1>\u001b[1;34m()\u001b[0m\n\u001b[1;32m----> <a href='vscode-notebook-cell:/c%3A/Users/hms467/OneDrive%20-%20University%20of%20Copenhagen/Documents/Uni/11.%20semester/AMHA/AdvMacroHet/01/Introduction%20copy.ipynb#Y321sZmlsZQ%3D%3D?line=0'>1</a>\u001b[0m np\u001b[39m.\u001b[39mtensordot(model\u001b[39m.\u001b[39mpar\u001b[39m.\u001b[39mz_trans,np\u001b[39m.\u001b[39;49mtensordot(model\u001b[39m.\u001b[39;49mpar\u001b[39m.\u001b[39;49mxi_trans,model\u001b[39m.\u001b[39;49msol\u001b[39m.\u001b[39;49mc,axes\u001b[39m=\u001b[39;49m\u001b[39m1\u001b[39;49m),axes\u001b[39m=\u001b[39m\u001b[39m1\u001b[39m)\n",
      "File \u001b[1;32m<__array_function__ internals>:5\u001b[0m, in \u001b[0;36mtensordot\u001b[1;34m(*args, **kwargs)\u001b[0m\n",
      "File \u001b[1;32mc:\\Users\\hms467\\Anaconda3\\lib\\site-packages\\numpy\\core\\numeric.py:1110\u001b[0m, in \u001b[0;36mtensordot\u001b[1;34m(a, b, axes)\u001b[0m\n\u001b[0;32m   1108\u001b[0m             axes_b[k] \u001b[39m+\u001b[39m\u001b[39m=\u001b[39m ndb\n\u001b[0;32m   1109\u001b[0m \u001b[39mif\u001b[39;00m \u001b[39mnot\u001b[39;00m equal:\n\u001b[1;32m-> 1110\u001b[0m     \u001b[39mraise\u001b[39;00m \u001b[39mValueError\u001b[39;00m(\u001b[39m\"\u001b[39m\u001b[39mshape-mismatch for sum\u001b[39m\u001b[39m\"\u001b[39m)\n\u001b[0;32m   1112\u001b[0m \u001b[39m# Move the axes to sum over to the end of \"a\"\u001b[39;00m\n\u001b[0;32m   1113\u001b[0m \u001b[39m# and to the front of \"b\"\u001b[39;00m\n\u001b[0;32m   1114\u001b[0m notin \u001b[39m=\u001b[39m [k \u001b[39mfor\u001b[39;00m k \u001b[39min\u001b[39;00m \u001b[39mrange\u001b[39m(nda) \u001b[39mif\u001b[39;00m k \u001b[39mnot\u001b[39;00m \u001b[39min\u001b[39;00m axes_a]\n",
      "\u001b[1;31mValueError\u001b[0m: shape-mismatch for sum"
     ]
    }
   ],
   "source": [
    "np.tensordot(model.par.z_trans,np.tensordot(model.par.xi_trans,model.sol.c,axes=1),axes=1)"
   ]
  },
  {
   "cell_type": "code",
   "execution_count": 461,
   "metadata": {},
   "outputs": [
    {
     "data": {
      "text/plain": [
       "(7, 1, 500)"
      ]
     },
     "execution_count": 461,
     "metadata": {},
     "output_type": "execute_result"
    }
   ],
   "source": [
    "vbeg= np.zeros(model.sol.c.shape) \n",
    "    \n",
    "# expectation over xi\n",
    "exp_xi_V = np.zeros(vbeg.shape)\n",
    "\n",
    "for i_z in range(model.par.Nz):\n",
    "    exp_xi_V[i_z,:,:] = model.par.xi_trans@model.sol.c[i_z,:,:]\n",
    "\n",
    "\n",
    "# Use this to cal full expectation\n",
    "for i_xi in range(model.par.Nxi):\n",
    "    vbeg[:,i_xi,:] += model.par.z_trans@exp_xi_V[:,i_xi,:]\n",
    "\n",
    "vbeg.shape"
   ]
  },
  {
   "cell_type": "code",
   "execution_count": 468,
   "metadata": {},
   "outputs": [
    {
     "data": {
      "text/plain": [
       "(7, 1, 500)"
      ]
     },
     "execution_count": 468,
     "metadata": {},
     "output_type": "execute_result"
    }
   ],
   "source": [
    "vbeg= np.zeros(model.sol.c.shape) \n",
    "    \n",
    "# expectation over xi\n",
    "exp_xi_V = np.zeros(vbeg.shape)\n",
    "\n",
    "for i_z in range(model.par.Nz):\n",
    "    exp_xi_V[i_z,:,:] = model.par.xi_trans@ np.ascontiguousarray( model.sol.c[i_z,:,:]) \n",
    "\n",
    "\n",
    "# Use this to cal full expectation\n",
    "for i_xi in range(model.par.Nxi):\n",
    "    vbeg[:,i_xi,:] += model.par.z_trans@np.ascontiguousarray( exp_xi_V[:,i_xi,:] ) \n",
    "\n",
    "vbeg.shape"
   ]
  },
  {
   "cell_type": "code",
   "execution_count": 469,
   "metadata": {},
   "outputs": [
    {
     "data": {
      "text/plain": [
       "array([[[0.40543327, 0.40851486, 0.41163378, ..., 4.0545836 ,\n",
       "         4.09133358, 4.12846128]],\n",
       "\n",
       "       [[0.53695446, 0.54002571, 0.54313593, ..., 4.14409355,\n",
       "         4.1808162 , 4.21793285]],\n",
       "\n",
       "       [[0.71056281, 0.71343132, 0.71637077, ..., 4.24834452,\n",
       "         4.28503312, 4.32211826]],\n",
       "\n",
       "       ...,\n",
       "\n",
       "       [[1.16615143, 1.16649939, 1.16687609, ..., 4.5154833 ,\n",
       "         4.55208818, 4.58925985]],\n",
       "\n",
       "       [[1.40880234, 1.40912097, 1.40915907, ..., 4.71744229,\n",
       "         4.75444206, 4.79190217]],\n",
       "\n",
       "       [[1.67233735, 1.67237597, 1.67236625, ..., 4.92263888,\n",
       "         4.95966481, 4.99724615]]])"
      ]
     },
     "execution_count": 469,
     "metadata": {},
     "output_type": "execute_result"
    }
   ],
   "source": [
    "vbeg"
   ]
  },
  {
   "cell_type": "code",
   "execution_count": 464,
   "metadata": {},
   "outputs": [
    {
     "data": {
      "text/plain": [
       "array([[[0.40543327, 0.40851486, 0.41163378, ..., 4.0545836 ,\n",
       "         4.09133358, 4.12846128]],\n",
       "\n",
       "       [[0.53695446, 0.54002571, 0.54313593, ..., 4.14409355,\n",
       "         4.1808162 , 4.21793285]],\n",
       "\n",
       "       [[0.71056281, 0.71343132, 0.71637077, ..., 4.24834452,\n",
       "         4.28503312, 4.32211826]],\n",
       "\n",
       "       ...,\n",
       "\n",
       "       [[1.16615143, 1.16649939, 1.16687609, ..., 4.5154833 ,\n",
       "         4.55208818, 4.58925985]],\n",
       "\n",
       "       [[1.40880234, 1.40912097, 1.40915907, ..., 4.71744229,\n",
       "         4.75444206, 4.79190217]],\n",
       "\n",
       "       [[1.67233735, 1.67237597, 1.67236625, ..., 4.92263888,\n",
       "         4.95966481, 4.99724615]]])"
      ]
     },
     "execution_count": 464,
     "metadata": {},
     "output_type": "execute_result"
    }
   ],
   "source": [
    "vbeg"
   ]
  },
  {
   "cell_type": "code",
   "execution_count": 473,
   "metadata": {},
   "outputs": [
    {
     "name": "stdout",
     "output_type": "stream",
     "text": [
      "iteration    0 solved in 0.1 secs [max abs. diff. in c 5.03e+01]\n",
      "iteration    1 solved in 0.1 secs [max abs. diff. in c 1.68e+01]\n",
      "iteration    2 solved in 0.1 secs [max abs. diff. in c 8.30e+00]\n",
      "iteration    3 solved in 0.1 secs [max abs. diff. in c 5.12e+00]\n",
      "iteration    4 solved in 0.1 secs [max abs. diff. in c 3.25e+00]\n",
      "iteration    5 solved in 0.1 secs [max abs. diff. in c 2.48e+00]\n",
      "iteration    6 solved in 0.1 secs [max abs. diff. in c 1.75e+00]\n",
      "iteration    7 solved in 0.1 secs [max abs. diff. in c 1.46e+00]\n",
      "iteration    8 solved in 0.1 secs [max abs. diff. in c 1.13e+00]\n",
      "iteration    9 solved in 0.1 secs [max abs. diff. in c 8.98e-01]\n",
      "iteration  100 solved in 0.1 secs [max abs. diff. in c 3.58e-03]\n",
      "iteration  200 solved in 0.1 secs [max abs. diff. in c 8.16e-05]\n",
      "iteration  203 solved in 0.1 secs [max abs. diff. in c 0.00e+00]\n",
      "model solved in 13.5 secs\n"
     ]
    }
   ],
   "source": [
    "model.solve(do_print=True,algo='vfi')"
   ]
  },
  {
   "cell_type": "code",
   "execution_count": 451,
   "metadata": {},
   "outputs": [
    {
     "data": {
      "image/png": "[encoded data removed]",
      "text/plain": [
       "<Figure size 432x288 with 1 Axes>"
      ]
     },
     "metadata": {},
     "output_type": "display_data"
    }
   ],
   "source": [
    "plt.plot(model.sol.c[:,0,:].T);"
   ]
  },
  {
   "cell_type": "code",
   "execution_count": 218,
   "metadata": {},
   "outputs": [],
   "source": [
    "#model.solve(algo='egm')\n",
    "#print(np.mean(model.sol.c))"
   ]
  },
  {
   "cell_type": "code",
   "execution_count": 219,
   "metadata": {},
   "outputs": [],
   "source": [
    "#plt.plot(model.sol.c.T);"
   ]
  },
  {
   "cell_type": "markdown",
   "metadata": {},
   "source": [
    "### Introducing shocks"
   ]
  },
  {
   "cell_type": "code",
   "execution_count": 493,
   "metadata": {},
   "outputs": [],
   "source": [
    "model_shock = model.copy()\n",
    "model_shock.par.sigma_xi = .1\n",
    "model_shock.par.Nxi = 5\n",
    "model_shock.allocate()"
   ]
  },
  {
   "cell_type": "code",
   "execution_count": 494,
   "metadata": {},
   "outputs": [
    {
     "name": "stdout",
     "output_type": "stream",
     "text": [
      "iteration    0 solved in 0.7 secs [max abs. diff. in c 5.04e+01]\n",
      "iteration    1 solved in 0.5 secs [max abs. diff. in c 1.69e+01]\n",
      "iteration    2 solved in 0.5 secs [max abs. diff. in c 8.52e+00]\n",
      "iteration    3 solved in 0.5 secs [max abs. diff. in c 5.14e+00]\n",
      "iteration    4 solved in 0.4 secs [max abs. diff. in c 3.48e+00]\n",
      "iteration    5 solved in 0.4 secs [max abs. diff. in c 2.48e+00]\n",
      "iteration    6 solved in 0.4 secs [max abs. diff. in c 1.87e+00]\n",
      "iteration    7 solved in 0.4 secs [max abs. diff. in c 1.46e+00]\n",
      "iteration    8 solved in 0.4 secs [max abs. diff. in c 1.13e+00]\n",
      "iteration    9 solved in 0.5 secs [max abs. diff. in c 9.27e-01]\n",
      "iteration  100 solved in 0.4 secs [max abs. diff. in c 3.86e-03]\n",
      "iteration  200 solved in 0.4 secs [max abs. diff. in c 1.17e-04]\n",
      "iteration  226 solved in 0.3 secs [max abs. diff. in c 0.00e+00]\n",
      "model solved in 1.0 mins 22 secs\n"
     ]
    }
   ],
   "source": [
    "model_shock.solve(do_print=True,algo='vfi')"
   ]
  },
  {
   "cell_type": "code",
   "execution_count": 495,
   "metadata": {},
   "outputs": [
    {
     "data": {
      "image/png": "[encoded data removed]",
      "text/plain": [
       "<Figure size 432x288 with 1 Axes>"
      ]
     },
     "metadata": {},
     "output_type": "display_data"
    }
   ],
   "source": [
    "plt.plot(model_shock.sol.c[:,0,:].T);"
   ]
  },
  {
   "cell_type": "code",
   "execution_count": 496,
   "metadata": {},
   "outputs": [
    {
     "data": {
      "image/png": "[encoded data removed]",
      "text/plain": [
       "<Figure size 432x288 with 1 Axes>"
      ]
     },
     "metadata": {},
     "output_type": "display_data"
    }
   ],
   "source": [
    "plt.plot(model_shock.sol.c[0,:,:].T);"
   ]
  },
  {
   "cell_type": "code",
   "execution_count": 526,
   "metadata": {},
   "outputs": [
    {
     "data": {
      "image/png": "[encoded data removed]",
      "text/plain": [
       "<Figure size 432x288 with 1 Axes>"
      ]
     },
     "metadata": {},
     "output_type": "display_data"
    }
   ],
   "source": [
    "plt.plot(np.mean(model_shock.sol.c[:,:,:],axis=1).T);"
   ]
  },
  {
   "cell_type": "code",
   "execution_count": 498,
   "metadata": {},
   "outputs": [
    {
     "data": {
      "image/png": "[encoded data removed]",
      "text/plain": [
       "<Figure size 432x288 with 1 Axes>"
      ]
     },
     "metadata": {},
     "output_type": "display_data"
    }
   ],
   "source": [
    "model_shock.plot_save_change()"
   ]
  },
  {
   "cell_type": "code",
   "execution_count": 499,
   "metadata": {},
   "outputs": [
    {
     "data": {
      "image/png": "[encoded data removed]",
      "text/plain": [
       "<Figure size 432x288 with 1 Axes>"
      ]
     },
     "metadata": {},
     "output_type": "display_data"
    }
   ],
   "source": [
    "model.plot_save_change()"
   ]
  },
  {
   "cell_type": "code",
   "execution_count": 506,
   "metadata": {},
   "outputs": [
    {
     "name": "stdout",
     "output_type": "stream",
     "text": [
      "16.17539635285989\n",
      "16.16297136653729\n",
      "consumption\n",
      "1.6737916401471997\n",
      "1.6862166264698035\n"
     ]
    }
   ],
   "source": [
    "# savings increase with the shock\n",
    "print(np.mean(model_shock.sol.a))\n",
    "print(np.mean(model.sol.a))\n",
    "\n",
    "print('consumption')\n",
    "print(np.mean(model_shock.sol.c)) \n",
    "print(np.mean(model.sol.c))\n"
   ]
  },
  {
   "cell_type": "code",
   "execution_count": 522,
   "metadata": {},
   "outputs": [
    {
     "name": "stdout",
     "output_type": "stream",
     "text": [
      "Response to shock is larger in savings than in consumption (smoothing)\n",
      "[-0.285697   -0.13556262  0.          0.13556262  0.285697  ]\n",
      "[15.91495679 16.04807776 16.17265819 16.29998297 16.44130605]\n",
      "[1.6485342  1.66554761 1.6765298  1.68476764 1.69357894]\n"
     ]
    }
   ],
   "source": [
    "print(\"Response to shock is larger in savings than in consumption (smoothing)\")\n",
    "print(model_shock.par.xi)\n",
    "print(np.mean(model_shock.sol.a,axis=(0,2)))\n",
    "print(np.mean(model_shock.sol.c,axis=(0,2)))"
   ]
  },
  {
   "cell_type": "code",
   "execution_count": 523,
   "metadata": {},
   "outputs": [
    {
     "name": "stdout",
     "output_type": "stream",
     "text": [
      "[0.]\n",
      "[16.16297137]\n",
      "[1.68621663]\n"
     ]
    }
   ],
   "source": [
    "# Savings is lower and consumption higher even when the shock is simliary, (cautionary savings)\n",
    "print(model.par.xi)\n",
    "print(np.mean(model.sol.a,axis=(0,2)))\n",
    "print(np.mean(model.sol.c,axis=(0,2)))\n",
    "\n",
    "# If borrowing is adjusted "
   ]
  },
  {
   "cell_type": "code",
   "execution_count": 535,
   "metadata": {},
   "outputs": [
    {
     "name": "stdout",
     "output_type": "stream",
     "text": [
      "[0.38926563]\n"
     ]
    }
   ],
   "source": [
    "print(np.min(model.sol.c,axis=(0,2)))"
   ]
  },
  {
   "cell_type": "code",
   "execution_count": 543,
   "metadata": {},
   "outputs": [
    {
     "data": {
      "text/plain": [
       "0.1"
      ]
     },
     "execution_count": 543,
     "metadata": {},
     "output_type": "execute_result"
    }
   ],
   "source": [
    "model.par.b"
   ]
  },
  {
   "cell_type": "code",
   "execution_count": 574,
   "metadata": {},
   "outputs": [],
   "source": [
    "## increase std\n",
    "model_bshock = model.copy()\n",
    "model_bshock.par.sigma_xi = .2\n",
    "\n",
    "model_bshock.par.Nxi = 5\n",
    "\n",
    "model_bshock.allocate()"
   ]
  },
  {
   "cell_type": "code",
   "execution_count": 575,
   "metadata": {},
   "outputs": [
    {
     "name": "stdout",
     "output_type": "stream",
     "text": [
      "[-0.571394   -0.27112524  0.          0.27112524  0.571394  ]\n",
      "[0.39126563 0.52373855 0.70106355 0.93842643 1.25615454 1.68145758\n",
      " 2.25075777]\n"
     ]
    }
   ],
   "source": [
    "# Shocks are so big there can be negative income in a given year ()\n",
    "print(model_bshock.par.xi)\n",
    "print(model_bshock.par.z_grid)\n",
    "# Even if borrowing is adjusted to allow for this, you still have to check the case where people are on their borrowing limit, \n",
    "# and with low income and and worst chock the will only have negative consumption opportunities"
   ]
  },
  {
   "cell_type": "code",
   "execution_count": 592,
   "metadata": {},
   "outputs": [
    {
     "name": "stdout",
     "output_type": "stream",
     "text": [
      "[-0.34641016  0.          0.34641016]\n",
      "[0.39126563 0.52373855 0.70106355 0.93842643 1.25615454 1.68145758\n",
      " 2.25075777]\n"
     ]
    }
   ],
   "source": [
    "# I set nxi= 1 to allow to have sigma_xi (with larger grid )\n",
    "model_bshock.par.Nxi = 3\n",
    "\n",
    "model_bshock.allocate()\n",
    "print(model_bshock.par.xi)\n",
    "print(model_bshock.par.z_grid)"
   ]
  },
  {
   "cell_type": "code",
   "execution_count": 593,
   "metadata": {},
   "outputs": [
    {
     "name": "stdout",
     "output_type": "stream",
     "text": [
      "iteration    0 solved in 0.3 secs [max abs. diff. in c 5.03e+01]\n",
      "iteration    1 solved in 0.3 secs [max abs. diff. in c 1.69e+01]\n",
      "iteration    2 solved in 0.3 secs [max abs. diff. in c 8.58e+00]\n",
      "iteration    3 solved in 0.3 secs [max abs. diff. in c 5.13e+00]\n",
      "iteration    4 solved in 0.2 secs [max abs. diff. in c 3.48e+00]\n",
      "iteration    5 solved in 0.2 secs [max abs. diff. in c 2.48e+00]\n",
      "iteration    6 solved in 0.2 secs [max abs. diff. in c 1.90e+00]\n",
      "iteration    7 solved in 0.2 secs [max abs. diff. in c 1.46e+00]\n",
      "iteration    8 solved in 0.2 secs [max abs. diff. in c 1.13e+00]\n",
      "iteration    9 solved in 0.2 secs [max abs. diff. in c 9.89e-01]\n",
      "iteration  100 solved in 0.2 secs [max abs. diff. in c 3.73e-03]\n",
      "iteration  200 solved in 0.3 secs [max abs. diff. in c 1.16e-04]\n",
      "iteration  228 solved in 0.2 secs [max abs. diff. in c 0.00e+00]\n",
      "model solved in 1.0 mins 0 secs\n"
     ]
    }
   ],
   "source": [
    "model_bshock.solve(do_print=True,algo='vfi')"
   ]
  },
  {
   "cell_type": "code",
   "execution_count": 594,
   "metadata": {},
   "outputs": [
    {
     "data": {
      "image/png": "[encoded data removed]",
      "text/plain": [
       "<Figure size 432x288 with 1 Axes>"
      ]
     },
     "metadata": {},
     "output_type": "display_data"
    }
   ],
   "source": [
    "plt.plot(np.mean(model_bshock.sol.c[:,:,:],axis=1).T);"
   ]
  },
  {
   "cell_type": "code",
   "execution_count": 595,
   "metadata": {},
   "outputs": [
    {
     "name": "stdout",
     "output_type": "stream",
     "text": [
      "Larger std shock means even less consumption\n",
      "[-0.34641016  0.          0.34641016]\n",
      "[15.88137074 16.19402199 16.51742862]\n",
      "[1.62140709 1.655166   1.67816953]\n"
     ]
    }
   ],
   "source": [
    "print(\"Larger std shock means even less consumption\")\n",
    "print(model_bshock.par.xi)\n",
    "print(np.mean(model_bshock.sol.a,axis=(0,2)))\n",
    "print(np.mean(model_bshock.sol.c,axis=(0,2)))"
   ]
  },
  {
   "cell_type": "code",
   "execution_count": 572,
   "metadata": {},
   "outputs": [
    {
     "name": "stdout",
     "output_type": "stream",
     "text": [
      "Response to shock is larger in savings than in consumption (smoothing)\n",
      "[-0.285697   -0.13556262  0.          0.13556262  0.285697  ]\n",
      "[15.91495679 16.04807776 16.17265819 16.29998297 16.44130605]\n",
      "[1.6485342  1.66554761 1.6765298  1.68476764 1.69357894]\n"
     ]
    }
   ],
   "source": [
    "print(\"Response to shock is larger in savings than in consumption (smoothing)\")\n",
    "print(model_shock.par.xi)\n",
    "print(np.mean(model_shock.sol.a,axis=(0,2)))\n",
    "print(np.mean(model_shock.sol.c,axis=(0,2)))"
   ]
  },
  {
   "cell_type": "code",
   "execution_count": 580,
   "metadata": {},
   "outputs": [
    {
     "name": "stdout",
     "output_type": "stream",
     "text": [
      "[-0.17320508  0.          0.17320508]\n",
      "[16.01412932 16.17259876 16.33495301]\n",
      "[1.66185359 1.67658923 1.68744006]\n"
     ]
    }
   ],
   "source": [
    "# Also with nxi=3 with the smaller chock \n",
    "\n",
    "model_lshock = model.copy()\n",
    "model_lshock.par.sigma_xi = .1\n",
    "model_lshock.par.Nxi = 3\n",
    "model_lshock.allocate()\n",
    "model_lshock.solve(do_print=False,algo='vfi')\n",
    "print(model_lshock.par.xi)\n",
    "print(np.mean(model_lshock.sol.a,axis=(0,2)))\n",
    "print(np.mean(model_lshock.sol.c,axis=(0,2)))"
   ]
  },
  {
   "cell_type": "markdown",
   "metadata": {},
   "source": [
    "## Solving with egm"
   ]
  },
  {
   "cell_type": "code",
   "execution_count": null,
   "metadata": {},
   "outputs": [],
   "source": []
  },
  {
   "cell_type": "code",
   "execution_count": 589,
   "metadata": {},
   "outputs": [
    {
     "name": "stdout",
     "output_type": "stream",
     "text": [
      "[16.16297137]\n",
      "[1.68621663]\n"
     ]
    }
   ],
   "source": [
    "model.solve(do_print=False,algo='vfi')\n",
    "print(np.mean(model.sol.a,axis=(0,2)))\n",
    "print(np.mean(model.sol.c,axis=(0,2)))"
   ]
  },
  {
   "cell_type": "code",
   "execution_count": 587,
   "metadata": {},
   "outputs": [
    {
     "name": "stdout",
     "output_type": "stream",
     "text": [
      "iteration    0 solved in 1.9 secs [max abs. diff. in c 5.03e+01]\n",
      "iteration    1 solved in 0.0 secs [max abs. diff. in c 1.68e+01]\n",
      "iteration    2 solved in 0.0 secs [max abs. diff. in c 8.39e+00]\n",
      "iteration    3 solved in 0.0 secs [max abs. diff. in c 5.04e+00]\n",
      "iteration    4 solved in 0.0 secs [max abs. diff. in c 3.36e+00]\n",
      "iteration    5 solved in 0.0 secs [max abs. diff. in c 2.40e+00]\n",
      "iteration    6 solved in 0.0 secs [max abs. diff. in c 1.81e+00]\n",
      "iteration    7 solved in 0.0 secs [max abs. diff. in c 1.41e+00]\n",
      "iteration    8 solved in 0.0 secs [max abs. diff. in c 1.13e+00]\n",
      "iteration    9 solved in 0.0 secs [max abs. diff. in c 9.21e-01]\n",
      "iteration  100 solved in 0.0 secs [max abs. diff. in c 3.45e-03]\n",
      "iteration  200 solved in 0.0 secs [max abs. diff. in c 3.45e-06]\n",
      "iteration  271 solved in 0.0 secs [max abs. diff. in c 9.77e-09]\n",
      "model solved in 2.1 secs\n"
     ]
    }
   ],
   "source": [
    "model.solve(do_print=True,algo='egm')"
   ]
  },
  {
   "cell_type": "code",
   "execution_count": 588,
   "metadata": {},
   "outputs": [
    {
     "name": "stdout",
     "output_type": "stream",
     "text": [
      "[16.16325921]\n",
      "[1.68592878]\n"
     ]
    }
   ],
   "source": [
    "print(np.mean(model.sol.a,axis=(0,2)))\n",
    "print(np.mean(model.sol.c,axis=(0,2)))"
   ]
  },
  {
   "cell_type": "code",
   "execution_count": 596,
   "metadata": {},
   "outputs": [
    {
     "name": "stdout",
     "output_type": "stream",
     "text": [
      "[15.88137074 16.19402199 16.51742862]\n",
      "[1.62140709 1.655166   1.67816953]\n",
      "iteration    0 solved in 0.0 secs [max abs. diff. in c 5.05e+01]\n",
      "iteration    1 solved in 0.0 secs [max abs. diff. in c 1.68e+01]\n",
      "iteration    2 solved in 0.0 secs [max abs. diff. in c 8.42e+00]\n",
      "iteration    3 solved in 0.0 secs [max abs. diff. in c 5.06e+00]\n",
      "iteration    4 solved in 0.0 secs [max abs. diff. in c 3.37e+00]\n",
      "iteration    5 solved in 0.0 secs [max abs. diff. in c 2.41e+00]\n",
      "iteration    6 solved in 0.0 secs [max abs. diff. in c 1.81e+00]\n",
      "iteration    7 solved in 0.0 secs [max abs. diff. in c 1.41e+00]\n",
      "iteration    8 solved in 0.0 secs [max abs. diff. in c 1.13e+00]\n",
      "iteration    9 solved in 0.0 secs [max abs. diff. in c 9.24e-01]\n",
      "iteration  100 solved in 0.0 secs [max abs. diff. in c 3.46e-03]\n",
      "iteration  200 solved in 0.0 secs [max abs. diff. in c 4.55e-06]\n",
      "iteration  275 solved in 0.0 secs [max abs. diff. in c 9.62e-09]\n",
      "model solved in 0.6 secs\n",
      "[15.88187794 16.194251   16.5172706 ]\n",
      "[1.62089989 1.654937   1.67832755]\n"
     ]
    }
   ],
   "source": [
    "print(np.mean(model_bshock.sol.a,axis=(0,2)))\n",
    "print(np.mean(model_bshock.sol.c,axis=(0,2)))\n",
    "model_bshock.solve(do_print=True,algo='egm')\n",
    "print(np.mean(model_bshock.sol.a,axis=(0,2)))\n",
    "print(np.mean(model_bshock.sol.c,axis=(0,2)))"
   ]
  },
  {
   "cell_type": "code",
   "execution_count": null,
   "metadata": {},
   "outputs": [],
   "source": []
  }
 ],
 "metadata": {
  "kernelspec": {
   "display_name": "Python 3.9.12 ('base')",
   "language": "python",
   "name": "python3"
  },
  "language_info": {
   "codemirror_mode": {
    "name": "ipython",
    "version": 3
   },
   "file_extension": ".py",
   "mimetype": "text/x-python",
   "name": "python",
   "nbconvert_exporter": "python",
   "pygments_lexer": "ipython3",
   "version": "3.9.12"
  },
  "toc-autonumbering": true,
  "vscode": {
   "interpreter": {
    "hash": "2164e4eaf16dd6cd705646718fcef4f5f263bad5b7d103e76e9308c0132ca24b"
   }
  }
 },
 "nbformat": 4,
 "nbformat_minor": 4
}
