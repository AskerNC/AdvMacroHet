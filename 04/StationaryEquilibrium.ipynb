{
 "cells": [
  {
   "cell_type": "markdown",
   "metadata": {},
   "source": [
    "# Introduction"
   ]
  },
  {
   "cell_type": "markdown",
   "metadata": {},
   "source": [
    "**Contents:**\n",
    "\n",
    "1. Introduces the `GEModelTools`\n",
    "1. Solves and simulates a simple **Heterogenous Agent Neo-Classical (HANC) model**"
   ]
  },
  {
   "cell_type": "code",
   "execution_count": 1,
   "metadata": {},
   "outputs": [],
   "source": [
    "%load_ext autoreload\n",
    "%autoreload 2\n",
    "\n",
    "import time\n",
    "import pickle\n",
    "import numpy as np\n",
    "from scipy import optimize\n",
    "\n",
    "import matplotlib.pyplot as plt   \n",
    "plt.style.use('seaborn-whitegrid')\n",
    "prop_cycle = plt.rcParams['axes.prop_cycle']\n",
    "colors = prop_cycle.by_key()['color']\n",
    "\n",
    "from HANCModel import HANCModelClass"
   ]
  },
  {
   "cell_type": "markdown",
   "metadata": {
    "tags": []
   },
   "source": [
    "# Setup"
   ]
  },
  {
   "cell_type": "code",
   "execution_count": 2,
   "metadata": {},
   "outputs": [],
   "source": [
    "model = HANCModelClass(name='baseline') # create an instance of the model"
   ]
  },
  {
   "cell_type": "code",
   "execution_count": 3,
   "metadata": {},
   "outputs": [],
   "source": [
    "par = model.par\n",
    "ss = model.ss"
   ]
  },
  {
   "cell_type": "markdown",
   "metadata": {},
   "source": [
    "**Pause:** Take a look at `.par` and `.ss`"
   ]
  },
  {
   "cell_type": "markdown",
   "metadata": {},
   "source": [
    "**Question I:** Where does the variable names in `.ss` come from?"
   ]
  },
  {
   "cell_type": "markdown",
   "metadata": {},
   "source": [
    "**Question II:** What explain the shapes below?"
   ]
  },
  {
   "cell_type": "code",
   "execution_count": 4,
   "metadata": {},
   "outputs": [
    {
     "name": "stdout",
     "output_type": "stream",
     "text": [
      "(1, 7, 500)\n",
      "(1, 7)\n",
      "(1, 7, 500)\n"
     ]
    }
   ],
   "source": [
    "print(ss.a.shape)\n",
    "print(ss.Dz.shape)\n",
    "print(ss.D.shape)"
   ]
  },
  {
   "cell_type": "markdown",
   "metadata": {},
   "source": [
    "# Solve household problem"
   ]
  },
  {
   "cell_type": "markdown",
   "metadata": {},
   "source": [
    "Set the steady state values, which matter for the household:"
   ]
  },
  {
   "cell_type": "code",
   "execution_count": 5,
   "metadata": {},
   "outputs": [],
   "source": [
    "ss.r = 0.02\n",
    "ss.w = 1.00"
   ]
  },
  {
   "cell_type": "markdown",
   "metadata": {},
   "source": [
    "**Solve the household problem** with `.solve_hh_ss()`:\n",
    "    \n",
    "1. Calls `.prepare_hh_ss()`\n",
    "1. Calls `.solve_backwards_hh()` until convergence"
   ]
  },
  {
   "cell_type": "code",
   "execution_count": 6,
   "metadata": {},
   "outputs": [
    {
     "name": "stdout",
     "output_type": "stream",
     "text": [
      "household problem in ss solved in 8.8 secs [384 iterations]\n"
     ]
    }
   ],
   "source": [
    "model.solve_hh_ss(do_print=True)"
   ]
  },
  {
   "cell_type": "code",
   "execution_count": 7,
   "metadata": {},
   "outputs": [
    {
     "name": "stdout",
     "output_type": "stream",
     "text": [
      "household problem in ss simulated in 9.9 secs [534 iterations]\n"
     ]
    }
   ],
   "source": [
    "model.simulate_hh_ss(do_print=True)"
   ]
  },
  {
   "cell_type": "markdown",
   "metadata": {},
   "source": [
    "**Aggregate savings:**"
   ]
  },
  {
   "cell_type": "code",
   "execution_count": 8,
   "metadata": {},
   "outputs": [
    {
     "data": {
      "text/plain": [
       "1.235813365079273"
      ]
     },
     "execution_count": 8,
     "metadata": {},
     "output_type": "execute_result"
    }
   ],
   "source": [
    "np.sum(ss.a*ss.D)"
   ]
  },
  {
   "cell_type": "markdown",
   "metadata": {},
   "source": [
    "# Find stationary equilibrium"
   ]
  },
  {
   "cell_type": "markdown",
   "metadata": {},
   "source": [
    "## Direct approach"
   ]
  },
  {
   "cell_type": "code",
   "execution_count": 9,
   "metadata": {},
   "outputs": [
    {
     "name": "stdout",
     "output_type": "stream",
     "text": [
      "### step 1: broad search ###\n",
      "\n",
      "guess ss.K = 1.0000\n",
      "implied ss.r = 0.2600\n",
      "implied ss.w = 0.6400\n",
      "household problem in ss solved in 0.2 secs [206 iterations]\n",
      "household problem in ss simulated in 0.0 secs [50 iterations]\n",
      "implied ss.A_hh = 70.6342\n",
      "clearing_A =  69.63421107\n",
      "\n",
      "guess ss.K = 2.0000\n",
      "implied ss.r = 0.1310\n",
      "implied ss.w = 0.8214\n",
      "household problem in ss solved in 0.2 secs [334 iterations]\n",
      "household problem in ss simulated in 0.0 secs [108 iterations]\n",
      "implied ss.A_hh = 85.8542\n",
      "clearing_A =  83.85421780\n",
      "\n",
      "guess ss.K = 3.0000\n",
      "implied ss.r = 0.0782\n",
      "implied ss.w = 0.9505\n",
      "household problem in ss solved in 0.4 secs [459 iterations]\n",
      "household problem in ss simulated in 0.0 secs [381 iterations]\n",
      "implied ss.A_hh = 96.9175\n",
      "clearing_A =  93.91751699\n",
      "\n",
      "guess ss.K = 4.0000\n",
      "implied ss.r = 0.0482\n",
      "implied ss.w = 1.0542\n",
      "household problem in ss solved in 0.6 secs [597 iterations]\n",
      "household problem in ss simulated in 0.9 secs [2290 iterations]\n",
      "implied ss.A_hh = 105.8354\n",
      "clearing_A = 101.83535316\n",
      "\n",
      "guess ss.K = 5.0000\n",
      "implied ss.r = 0.0285\n",
      "implied ss.w = 1.1424\n",
      "household problem in ss solved in 0.7 secs [505 iterations]\n",
      "household problem in ss simulated in 0.2 secs [1018 iterations]\n",
      "implied ss.A_hh = 3.7041\n",
      "clearing_A =  -1.29589311\n",
      "\n",
      "guess ss.K = 6.0000\n",
      "implied ss.r = 0.0144\n",
      "implied ss.w = 1.2199\n",
      "household problem in ss solved in 0.2 secs [327 iterations]\n",
      "household problem in ss simulated in 0.1 secs [398 iterations]\n",
      "implied ss.A_hh = 0.8557\n",
      "clearing_A =  -5.14427043\n",
      "\n",
      "guess ss.K = 7.0000\n",
      "implied ss.r = 0.0036\n",
      "implied ss.w = 1.2895\n",
      "household problem in ss solved in 0.2 secs [246 iterations]\n",
      "household problem in ss simulated in 0.0 secs [255 iterations]\n",
      "implied ss.A_hh = 0.3195\n",
      "clearing_A =  -6.68051106\n",
      "\n",
      "guess ss.K = 8.0000\n",
      "implied ss.r = -0.0049\n",
      "implied ss.w = 1.3530\n",
      "household problem in ss solved in 0.2 secs [201 iterations]\n",
      "household problem in ss simulated in 0.0 secs [192 iterations]\n",
      "implied ss.A_hh = 0.1441\n",
      "clearing_A =  -7.85586671\n",
      "\n",
      "guess ss.K = 9.0000\n",
      "implied ss.r = -0.0118\n",
      "implied ss.w = 1.4116\n",
      "household problem in ss solved in 0.1 secs [173 iterations]\n",
      "household problem in ss simulated in 0.0 secs [157 iterations]\n",
      "implied ss.A_hh = 0.0753\n",
      "clearing_A =  -8.92470902\n",
      "\n",
      "guess ss.K = 10.0000\n",
      "implied ss.r = -0.0175\n",
      "implied ss.w = 1.4662\n",
      "household problem in ss solved in 0.1 secs [153 iterations]\n",
      "household problem in ss simulated in 0.0 secs [138 iterations]\n",
      "implied ss.A_hh = 0.0419\n",
      "clearing_A =  -9.95809430\n",
      "\n",
      "### step 2: determine search bracket ###\n",
      "\n",
      "K in [  4.00000000,  5.00000000]\n",
      "\n",
      "### step 3: search ###\n",
      "\n",
      "  0: K_ss =   4.98743452 -> A_hh-K =  -1.18782578\n",
      "  1: K_ss =   4.85091308 -> A_hh-K =   0.27438548\n",
      "  2: K_ss =   4.87653147 -> A_hh-K =  -0.04830991\n",
      "  3: K_ss =   4.87269621 -> A_hh-K =  -0.00168862\n",
      "  4: K_ss =   4.87255814 -> A_hh-K =   0.00000036\n",
      "  5: K_ss =   4.87255817 -> A_hh-K =  -0.00000000\n",
      "\n",
      "K_ss =   4.87255817 [A_hh-K =  -0.00000000]\n",
      "\n",
      "found steady state 9.6 secs\n"
     ]
    }
   ],
   "source": [
    "model.find_ss(method='direct',do_print=True)"
   ]
  },
  {
   "cell_type": "markdown",
   "metadata": {},
   "source": [
    "**Look at the steady state variables:**"
   ]
  },
  {
   "cell_type": "code",
   "execution_count": 10,
   "metadata": {},
   "outputs": [
    {
     "name": "stdout",
     "output_type": "stream",
     "text": [
      "A_hh           : 4.8726\n",
      "C_hh           : 1.2812\n",
      "C              : 1.2812\n",
      "clearing_A     : -0.0000\n",
      "clearing_C     : -0.0000\n",
      "Gamma          : 1.0000\n",
      "I              : 0.4873\n",
      "K              : 4.8726\n",
      "L              : 1.0000\n",
      "r              : 0.0307\n",
      "rk             : 0.1307\n",
      "w              : 1.1318\n",
      "Y              : 1.7684\n"
     ]
    }
   ],
   "source": [
    "for varname in model.varlist:\n",
    "    print(f'{varname:15s}: {ss.__dict__[varname]:.4f}')"
   ]
  },
  {
   "cell_type": "markdown",
   "metadata": {},
   "source": [
    "## Looking at the stationary equilibrium"
   ]
  },
  {
   "cell_type": "markdown",
   "metadata": {},
   "source": [
    "### Policy functions"
   ]
  },
  {
   "cell_type": "code",
   "execution_count": 11,
   "metadata": {},
   "outputs": [
    {
     "data": {
      "image/png": "[encoded data removed]",
      "text/plain": [
       "<Figure size 1200x400 with 2 Axes>"
      ]
     },
     "metadata": {},
     "output_type": "display_data"
    }
   ],
   "source": [
    "fig = plt.figure(figsize=(12,4),dpi=100)\n",
    "\n",
    "I = par.a_grid < 500\n",
    "\n",
    "# a. consumption\n",
    "ax = fig.add_subplot(1,2,1)\n",
    "ax.set_title(f'consumption')\n",
    "\n",
    "for i_z,z in enumerate(par.z_grid):\n",
    "    if i_z%3 == 0 or i_z == par.Nz-1:\n",
    "        ax.plot(par.a_grid[I],ss.c[0,i_z,I],label=f'z = {z:.2f}')\n",
    "\n",
    "ax.legend(frameon=True)\n",
    "ax.set_xlabel('savings, $a_{t-1}$')\n",
    "ax.set_ylabel('consumption, $c_t$')\n",
    "\n",
    "# b. saving\n",
    "ax = fig.add_subplot(1,2,2)\n",
    "ax.set_title(f'saving')\n",
    "\n",
    "for i_z,z in enumerate(par.z_grid):\n",
    "    if i_z%3 == 0 or i_z == par.Nz-1:\n",
    "        ax.plot(par.a_grid[I],ss.a[0,i_z,I]-par.a_grid[I],label=f'z = {z:.2f}')\n",
    "\n",
    "ax.set_xlabel('savings, $a_{t-1}$')\n",
    "ax.set_ylabel('savings change, $a_{t}-a_{t-1}$')\n",
    "\n",
    "fig.tight_layout()"
   ]
  },
  {
   "cell_type": "markdown",
   "metadata": {},
   "source": [
    "### Distributions"
   ]
  },
  {
   "cell_type": "code",
   "execution_count": 12,
   "metadata": {},
   "outputs": [
    {
     "data": {
      "image/png": "[encoded data removed]",
      "text/plain": [
       "<Figure size 1200x400 with 2 Axes>"
      ]
     },
     "metadata": {},
     "output_type": "display_data"
    }
   ],
   "source": [
    "fig = plt.figure(figsize=(12,4),dpi=100)\n",
    "\n",
    "# a. income\n",
    "ax = fig.add_subplot(1,2,1)\n",
    "ax.set_title('productivity')\n",
    "ax.plot(par.z_grid,np.cumsum(np.sum(ss.D,axis=(0,2))))\n",
    "\n",
    "ax.set_xlabel('productivity, $z_{t}$')\n",
    "ax.set_ylabel('CDF')\n",
    "\n",
    "# b. assets\n",
    "ax = fig.add_subplot(1,2,2)\n",
    "ax.set_title('savings')\n",
    "ax.plot(np.insert(par.a_grid,0,par.a_grid[0]),np.insert(np.cumsum(np.sum(ss.D,axis=(0,1))),0,0.0),label='discrete')\n",
    "ax.set_xlabel('assets, $a_{t}$')\n",
    "ax.set_ylabel('CDF')\n",
    "ax.set_xscale('symlog')"
   ]
  },
  {
   "cell_type": "markdown",
   "metadata": {},
   "source": [
    "**Income moments:**"
   ]
  },
  {
   "cell_type": "code",
   "execution_count": 13,
   "metadata": {},
   "outputs": [
    {
     "name": "stdout",
     "output_type": "stream",
     "text": [
      "mean z:  1.00\n",
      "std. z:  0.36\n"
     ]
    }
   ],
   "source": [
    "mean_z = np.sum(ss.D*par.z_grid[:,np.newaxis])\n",
    "std_z = np.sqrt(np.sum(ss.D*(par.z_grid[np.newaxis,:,np.newaxis]-mean_z)**2))\n",
    "print(f'mean z: {mean_z:5.2f}')\n",
    "print(f'std. z: {std_z:5.2f}')"
   ]
  },
  {
   "cell_type": "markdown",
   "metadata": {},
   "source": [
    "**Asset moments:**"
   ]
  },
  {
   "cell_type": "code",
   "execution_count": 14,
   "metadata": {},
   "outputs": [
    {
     "name": "stdout",
     "output_type": "stream",
     "text": [
      "mean a:  4.873\n",
      "p25  a:  0.366\n",
      "p50  a:  2.529\n",
      "p95  a: 17.543\n",
      "p99  a: 26.947\n",
      "std. a:  6.132\n"
     ]
    }
   ],
   "source": [
    "# a. prepare\n",
    "Da = np.sum(ss.D,axis=(0,1))\n",
    "Da_cs = np.cumsum(Da)\n",
    "mean_a = np.sum(Da*par.a_grid)\n",
    "std_a = np.sqrt(np.sum(Da*(par.a_grid-mean_a)**2))\n",
    "\n",
    "def percentile(par,Da_cs,p):\n",
    "    \n",
    "    # a. check first\n",
    "    if p < Da_cs[0]: return par.a_grid[0]\n",
    "    \n",
    "    # b. find with loop\n",
    "    i = 0\n",
    "    while True:\n",
    "        if p > Da_cs[i+1]:\n",
    "            if i+1 >= par.Na: raise Exception()\n",
    "            i += 1\n",
    "            continue\n",
    "        else:\n",
    "            w = (p-Da_cs[i])/(Da_cs[i+1]-Da_cs[i])\n",
    "            diff = par.a_grid[i+1]-par.a_grid[i]\n",
    "            return par.a_grid[i]+w*diff\n",
    "        \n",
    "p25_a = percentile(par,Da_cs,0.25)\n",
    "p50_a = percentile(par,Da_cs,0.50)\n",
    "p95_a = percentile(par,Da_cs,0.95)\n",
    "p99_a = percentile(par,Da_cs,0.99)\n",
    "\n",
    "# b. print\n",
    "print(f'mean a: {mean_a:6.3f}')\n",
    "print(f'p25  a: {p25_a:6.3f}')\n",
    "print(f'p50  a: {p50_a:6.3f}')\n",
    "print(f'p95  a: {p95_a:6.3f}')\n",
    "print(f'p99  a: {p99_a:6.3f}')\n",
    "print(f'std. a: {std_a:6.3f}')"
   ]
  },
  {
   "cell_type": "markdown",
   "metadata": {},
   "source": [
    "**MPC:**"
   ]
  },
  {
   "cell_type": "code",
   "execution_count": 15,
   "metadata": {},
   "outputs": [
    {
     "name": "stdout",
     "output_type": "stream",
     "text": [
      "mean MPC: 0.178\n"
     ]
    }
   ],
   "source": [
    "def calc_MPC(par,ss):\n",
    "    \n",
    "    MPC = np.zeros(ss.D.shape)\n",
    "    dc = (ss.c[:,:,1:]-ss.c[:,:,:-1])\n",
    "    dm = (1+model.ss.r)*par.a_grid[np.newaxis,np.newaxis,1:]-(1+model.ss.r)*par.a_grid[np.newaxis,np.newaxis,:-1]\n",
    "    MPC[:,:,:-1] = dc/dm\n",
    "    MPC[:,:,-1] = MPC[:,:,-1] # assuming constant MPC at end\n",
    "    mean_MPC = np.sum(MPC*ss.D)\n",
    "    return mean_MPC\n",
    "\n",
    "mean_MPC = calc_MPC(par,ss)\n",
    "print(f'mean MPC: {mean_MPC:.3f}')"
   ]
  },
  {
   "cell_type": "markdown",
   "metadata": {},
   "source": [
    "**Question:** What is the correlation between income and savings?"
   ]
  },
  {
   "cell_type": "markdown",
   "metadata": {},
   "source": [
    "## Indirect approach"
   ]
  },
  {
   "cell_type": "code",
   "execution_count": 16,
   "metadata": {},
   "outputs": [],
   "source": [
    "model_indirect = model.copy()"
   ]
  },
  {
   "cell_type": "code",
   "execution_count": 17,
   "metadata": {},
   "outputs": [
    {
     "name": "stdout",
     "output_type": "stream",
     "text": [
      "household problem in ss solved in 0.7 secs [527 iterations]\n",
      "household problem in ss simulated in 0.3 secs [1185 iterations]\n",
      "\n",
      "Implied K =  3.935\n",
      "Implied Y =  1.562\n",
      "Implied Gamma =  0.954\n",
      "Implied delta =  0.113\n",
      "Implied K/Y =  2.518\n",
      "Discrepancy in K-A_hh =   0.00000000\n",
      "Discrepancy in C-C_hh =   0.00000000\n",
      "\n",
      "found steady state 1.0 secs\n"
     ]
    }
   ],
   "source": [
    "model_indirect.find_ss(method='indirect',do_print=True)"
   ]
  },
  {
   "cell_type": "markdown",
   "metadata": {},
   "source": [
    "**Question:** What are the pros and cons of the direct and indirect method?"
   ]
  },
  {
   "cell_type": "markdown",
   "metadata": {},
   "source": [
    "# Idiosyncratic risk and the steady state interest rate"
   ]
  },
  {
   "cell_type": "code",
   "execution_count": 18,
   "metadata": {},
   "outputs": [
    {
     "name": "stdout",
     "output_type": "stream",
     "text": [
      "ss.A_hh = ss.K = 4.87\n",
      "ss.r = 3.07 %\n",
      "\n",
      "sigma_psi = 0.10\n",
      "PE A_hh = 4.87\n",
      "GE ss.r = 3.07 %\n",
      "GE ss.A_hh = ss.K = 4.87\n",
      "\n",
      "sigma_psi = 0.12\n",
      "PE A_hh = 8.65\n",
      "GE ss.r = 2.56 %\n",
      "GE ss.A_hh = ss.K = 5.18\n",
      "\n",
      "sigma_psi = 0.15\n",
      "PE A_hh = 13.06\n",
      "GE ss.r = 2.01 %\n",
      "GE ss.A_hh = ss.K = 5.56\n",
      "\n",
      "sigma_psi = 0.18\n",
      "PE A_hh = 17.79\n",
      "GE ss.r = 1.42 %\n",
      "GE ss.A_hh = ss.K = 6.02\n",
      "\n",
      "sigma_psi = 0.20\n",
      "PE A_hh = 22.52\n",
      "GE ss.r = 0.81 %\n",
      "GE ss.A_hh = ss.K = 6.56\n",
      "\n"
     ]
    }
   ],
   "source": [
    "print(f'ss.A_hh = ss.K = {ss.A_hh:.2f}')\n",
    "print(f'ss.r = {ss.r*100:.2f} %')\n",
    "print('')\n",
    "      \n",
    "for sigma_psi in np.linspace(par.sigma_psi,2*par.sigma_psi,5):\n",
    "    \n",
    "    print(f'{sigma_psi = :.2f}')\n",
    "\n",
    "    model_ = model.copy()\n",
    "    model_.par.sigma_psi = sigma_psi\n",
    "        \n",
    "    model_.solve_hh_ss(do_print=False)\n",
    "    model_.simulate_hh_ss(do_print=False)\n",
    "    \n",
    "    A_hh = np.sum(model_.ss.a*model_.ss.D)\n",
    "    \n",
    "    print(f'PE {A_hh = :.2f}')\n",
    "          \n",
    "    model_.find_ss(method='direct')\n",
    "\n",
    "    print(f'GE ss.r = {model_.ss.r*100:.2f} %')\n",
    "    print(f'GE ss.A_hh = ss.K = {model_.ss.A_hh:.2f}')\n",
    "\n",
    "    print('')"
   ]
  },
  {
   "cell_type": "markdown",
   "metadata": {},
   "source": [
    "# Calibration"
   ]
  },
  {
   "cell_type": "code",
   "execution_count": 19,
   "metadata": {},
   "outputs": [],
   "source": [
    "from root_finding import brentq"
   ]
  },
  {
   "cell_type": "code",
   "execution_count": 20,
   "metadata": {},
   "outputs": [],
   "source": [
    "def calib_obj(beta,model):\n",
    "    \"\"\" calibration objective \"\"\"\n",
    "    \n",
    "    model.par.beta = beta\n",
    "    model.find_ss(method='direct')    \n",
    "    \n",
    "    mean_MPC = calc_MPC(model.par,model.ss)\n",
    "    \n",
    "    return mean_MPC-0.20"
   ]
  },
  {
   "cell_type": "code",
   "execution_count": 21,
   "metadata": {},
   "outputs": [
    {
     "name": "stdout",
     "output_type": "stream",
     "text": [
      "  0: beta =   0.94198455 -> MPC-0.20 =   0.00011745\n",
      "  1: beta =   0.94208540 -> MPC-0.20 =   0.00000007\n",
      "  2: beta =   0.94208546 -> MPC-0.20 =   0.00000000\n",
      "  3: beta =   0.94208547 -> MPC-0.20 =  -0.00000001\n",
      "\n",
      "beta =   0.94208546 [MPC-0.20 =   0.00000000]\n",
      "\n"
     ]
    }
   ],
   "source": [
    "model_calib = model.copy()\n",
    "brentq(calib_obj,0.94,par.beta,args=(model_calib,),do_print=True,varname='beta',funcname='MPC-0.20');"
   ]
  },
  {
   "cell_type": "code",
   "execution_count": 22,
   "metadata": {},
   "outputs": [
    {
     "name": "stdout",
     "output_type": "stream",
     "text": [
      "ss.r = 4.92 %\n",
      "ss.K = 3.96\n"
     ]
    }
   ],
   "source": [
    "print(f'ss.r = {model_calib.ss.r*100:.2f} %')\n",
    "print(f'ss.K = {model_calib.ss.K:.2f}')"
   ]
  },
  {
   "cell_type": "markdown",
   "metadata": {},
   "source": [
    "**Question:** What could be an alternative be to use a root-finder?"
   ]
  },
  {
   "cell_type": "markdown",
   "metadata": {},
   "source": [
    "# In-class exercise"
   ]
  },
  {
   "cell_type": "markdown",
   "metadata": {},
   "source": [
    "1. Look at the code and talk about it with the person next to you for 5 minutes\n",
    "2. Write at least one question on https://padlet.com/jeppe_druedahl/advmacrohet"
   ]
  }
 ],
 "metadata": {
  "kernelspec": {
   "display_name": "Python 3 (ipykernel)",
   "language": "python",
   "name": "python3"
  },
  "language_info": {
   "codemirror_mode": {
    "name": "ipython",
    "version": 3
   },
   "file_extension": ".py",
   "mimetype": "text/x-python",
   "name": "python",
   "nbconvert_exporter": "python",
   "pygments_lexer": "ipython3",
   "version": "3.9.12"
  },
  "toc-autonumbering": true
 },
 "nbformat": 4,
 "nbformat_minor": 4
}
