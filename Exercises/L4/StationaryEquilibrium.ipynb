{
 "cells": [
  {
   "cell_type": "markdown",
   "metadata": {},
   "source": [
    "# Introduction"
   ]
  },
  {
   "cell_type": "markdown",
   "metadata": {},
   "source": [
    "**Contents:**\n",
    "\n",
    "1. Introduces the `GEModelTools`\n",
    "1. Solves and simulates a simple **Heterogenous Agent Neo-Classical (HANC) model**"
   ]
  },
  {
   "cell_type": "code",
   "execution_count": 28,
   "metadata": {},
   "outputs": [
    {
     "name": "stdout",
     "output_type": "stream",
     "text": [
      "The autoreload extension is already loaded. To reload it, use:\n",
      "  %reload_ext autoreload\n"
     ]
    }
   ],
   "source": [
    "%load_ext autoreload\n",
    "%autoreload 2\n",
    "\n",
    "import time\n",
    "import pickle\n",
    "import numpy as np\n",
    "from scipy import optimize\n",
    "\n",
    "import matplotlib.pyplot as plt   \n",
    "plt.style.use('seaborn-whitegrid')\n",
    "prop_cycle = plt.rcParams['axes.prop_cycle']\n",
    "colors = prop_cycle.by_key()['color']\n",
    "\n",
    "from HANCModel import HANCModelClass"
   ]
  },
  {
   "cell_type": "markdown",
   "metadata": {},
   "source": [
    "### New model"
   ]
  },
  {
   "cell_type": "markdown",
   "metadata": {},
   "source": [
    "1. Households: Solve\n",
    "\\begin{align*}\n",
    "v_{t}(z_{t},a_{t-1})\t& =\\max_{c_{t}}\\frac{c_{t}^{1-\\sigma}}{1-\\sigma}+\\beta\\mathbb{E}_{t}\\left[v_{t+1}(z_{t+1},a_{t})\\right] \\\\\n",
    "\\text{s.t. }a_{t}+c_{t}\t& =(1+r_{t})a_{t-1}+(1-\\tau_{t})z_{t}\\geq0 \\\\\n",
    "\\log z_{t+1}\t&=\\rho_{z}\\log z_{t}+\\psi_{t+1}\\,\\,\\,,\\psi_{t}\\sim\\mathcal{N}(\\mu_{\\psi},\\sigma_{\\psi}),\\,\\mathbb{E}[z_{t}]=1\n",
    "\\end{align*}\n",
    "where $r_{t}$ is the real-interest rate and $\\tau_{t}$ is a tax rate\n",
    "2. Government: Set taxes and government bonds follows \n",
    "\\begin{align*} \n",
    "B_{t+1}=(1+r_{t})B_{t}-\\int\\tau_{t}z_{t}d\\boldsymbol{D}_{t} \n",
    "\\end{align*}\n",
    "\n",
    "3. Bond market clearing: $B_{t}=\\int a_{t}^{\\ast}(z_{t},a_{t-1})d\\boldsymbol{D}_{t}$\n",
    "\n",
    "4. Define and find the stationary equilibrium"
   ]
  },
  {
   "cell_type": "markdown",
   "metadata": {},
   "source": [
    "\\begin{align*}\n",
    "B_{t+1}=(1+r_{t})B_{t}-\\int\\tau_{t}z_{t}d\\boldsymbol{D}_{t} \\\\\n",
    "\\Rightarrow B_{ss}=(1+r_{ss})B_{ss}-\\int\\tau_{t}z_{t}d\\boldsymbol{D}_{ss} \\\\\n",
    "\\Leftrightarrow r_{ss}=\\frac{1}{B_{ss}}\\int\\tau_{t}z_{t}d\\boldsymbol{D}_{ss}\n",
    "\\end{align*}"
   ]
  },
  {
   "cell_type": "markdown",
   "metadata": {},
   "source": [
    "\\begin{align*}\n",
    "H_{ss}\\left(B_{ss}; \\tau_{ss}\\right)=\n",
    "\\left[ \n",
    "    \\begin{matrix}\n",
    "B_{ss}-\\boldsymbol{a}_{ss}^{\\ast\\prime}\\boldsymbol{D}_{ss} \\\\\n",
    "r_{ss}-\\frac{1}{B_{ss}}\\int\\tau_{ss}z_{t}d\\boldsymbol{D}_{ss} \\\\\n",
    "\\boldsymbol{D}_{ss}-\\Pi_{z}^{\\prime}\\underline{\\boldsymbol{D}}_{ss} \\\\\n",
    "\\underline{\\boldsymbol{D}}_{ss}-\\Lambda_{ss}^{\\prime}\\boldsymbol{D}_{ss}\n",
    "\\end{matrix} \n",
    "\\right] =\\boldsymbol{0}\n",
    "\\end{align*}\n",
    "With Policy function: $a_{t}^{\\ast}=a^{\\ast}\\left(\\left\\{ r_{\\tau},\\tau_{ss}\\right\\} _{\\tau\\geq t}\\right)$\n",
    "\n",
    "And Choice transition: $\\Lambda_{t}=\\Lambda\\left(\\left\\{ r_{\\tau},\\tau_{ss}\\right\\} _{\\tau\\geq t}\\right)$"
   ]
  },
  {
   "cell_type": "markdown",
   "metadata": {},
   "source": [
    "You can also back out tau:\n",
    "\\begin{align*}\n",
    "\\Leftrightarrow \\tau_{ss} = \\frac{r_{ss}B_{ss}}{\\int z_{t}d\\boldsymbol{D}_{ss}}\n",
    "\\end{align*}"
   ]
  },
  {
   "cell_type": "markdown",
   "metadata": {
    "tags": []
   },
   "source": [
    "# Setup"
   ]
  },
  {
   "cell_type": "code",
   "execution_count": 84,
   "metadata": {},
   "outputs": [],
   "source": [
    "model = HANCModelClass(name='bonds') # create an instance of the model"
   ]
  },
  {
   "cell_type": "code",
   "execution_count": 43,
   "metadata": {},
   "outputs": [
    {
     "data": {
      "text/plain": [
       "(1000, 1, 7, 500)"
      ]
     },
     "execution_count": 43,
     "metadata": {},
     "output_type": "execute_result"
    }
   ],
   "source": [
    "sim.D.shape"
   ]
  },
  {
   "cell_type": "code",
   "execution_count": 85,
   "metadata": {},
   "outputs": [],
   "source": [
    "par = model.par\n",
    "ss = model.ss"
   ]
  },
  {
   "cell_type": "markdown",
   "metadata": {},
   "source": [
    "**Pause:** Take a look at `.par` and `.ss`"
   ]
  },
  {
   "cell_type": "markdown",
   "metadata": {},
   "source": [
    "**Question I:** Where does the variable names in `.ss` come from?"
   ]
  },
  {
   "cell_type": "markdown",
   "metadata": {},
   "source": [
    "**Question II:** What explains the shapes below?"
   ]
  },
  {
   "cell_type": "code",
   "execution_count": 86,
   "metadata": {},
   "outputs": [
    {
     "name": "stdout",
     "output_type": "stream",
     "text": [
      "(1, 7, 500)\n",
      "(1, 7)\n",
      "(1, 7, 500)\n"
     ]
    }
   ],
   "source": [
    "print(ss.a.shape)\n",
    "print(ss.Dz.shape)\n",
    "print(ss.D.shape)"
   ]
  },
  {
   "cell_type": "markdown",
   "metadata": {},
   "source": [
    "# Solve household problem"
   ]
  },
  {
   "cell_type": "markdown",
   "metadata": {},
   "source": [
    "Set the steady state values, which matter for the household:"
   ]
  },
  {
   "cell_type": "code",
   "execution_count": 87,
   "metadata": {},
   "outputs": [],
   "source": [
    "ss.r = 0.02\n",
    "#ss.w = 1.00"
   ]
  },
  {
   "cell_type": "markdown",
   "metadata": {},
   "source": [
    "**Solve the household problem** with `.solve_hh_ss()`:\n",
    "    \n",
    "1. Calls `.prepare_hh_ss()`\n",
    "1. Calls `.solve_backwards_hh()` until convergence"
   ]
  },
  {
   "cell_type": "code",
   "execution_count": 88,
   "metadata": {},
   "outputs": [
    {
     "name": "stdout",
     "output_type": "stream",
     "text": [
      "household problem in ss solved in 0.1 secs [387 iterations]\n"
     ]
    }
   ],
   "source": [
    "model.solve_hh_ss(do_print=True)"
   ]
  },
  {
   "cell_type": "code",
   "execution_count": 89,
   "metadata": {},
   "outputs": [
    {
     "name": "stdout",
     "output_type": "stream",
     "text": [
      "household problem in ss simulated in 0.0 secs [534 iterations]\n"
     ]
    }
   ],
   "source": [
    "model.simulate_hh_ss(do_print=True)"
   ]
  },
  {
   "cell_type": "markdown",
   "metadata": {},
   "source": [
    "**Aggregate savings:**"
   ]
  },
  {
   "cell_type": "code",
   "execution_count": 90,
   "metadata": {},
   "outputs": [
    {
     "data": {
      "text/plain": [
       "1.1122500893995204"
      ]
     },
     "execution_count": 90,
     "metadata": {},
     "output_type": "execute_result"
    }
   ],
   "source": [
    "np.sum(ss.a*ss.D)"
   ]
  },
  {
   "cell_type": "markdown",
   "metadata": {},
   "source": [
    "# Find stationary equilibrium"
   ]
  },
  {
   "cell_type": "markdown",
   "metadata": {},
   "source": [
    "## Direct approach"
   ]
  },
  {
   "cell_type": "code",
   "execution_count": 91,
   "metadata": {},
   "outputs": [
    {
     "name": "stdout",
     "output_type": "stream",
     "text": [
      "### step 1: broad search ###\n",
      "\n",
      "guess ss.B = 0.1000\n",
      "implied ss.r = 1.0000\n",
      "household problem in ss solved in 1.3 secs [4032 iterations]\n",
      "household problem in ss simulated in 0.0 secs [19 iterations]\n",
      "implied ss.A_hh = 138.9111\n",
      "clearing_A = 138.81112131\n",
      "\n",
      "guess ss.B = 1.2000\n",
      "implied ss.r = 0.0833\n",
      "household problem in ss solved in 0.2 secs [442 iterations]\n",
      "household problem in ss simulated in 0.0 secs [315 iterations]\n",
      "implied ss.A_hh = 102.1980\n",
      "clearing_A = 100.99798700\n",
      "\n",
      "guess ss.B = 2.3000\n",
      "implied ss.r = 0.0435\n",
      "household problem in ss solved in 0.3 secs [623 iterations]\n",
      "household problem in ss simulated in 1.0 secs [7478 iterations]\n",
      "implied ss.A_hh = 99.1021\n",
      "clearing_A =  96.80212022\n",
      "\n",
      "guess ss.B = 3.4000\n",
      "implied ss.r = 0.0294\n",
      "household problem in ss solved in 0.4 secs [522 iterations]\n",
      "household problem in ss simulated in 0.2 secs [1114 iterations]\n",
      "implied ss.A_hh = 3.2750\n",
      "clearing_A =  -0.12496572\n",
      "\n",
      "guess ss.B = 4.5000\n",
      "implied ss.r = 0.0222\n",
      "household problem in ss solved in 0.3 secs [415 iterations]\n",
      "household problem in ss simulated in 0.1 secs [615 iterations]\n",
      "implied ss.A_hh = 1.4071\n",
      "clearing_A =  -3.09294438\n",
      "\n",
      "guess ss.B = 5.6000\n",
      "implied ss.r = 0.0179\n",
      "household problem in ss solved in 0.3 secs [363 iterations]\n",
      "household problem in ss simulated in 0.1 secs [472 iterations]\n",
      "implied ss.A_hh = 0.8928\n",
      "clearing_A =  -4.70718816\n",
      "\n",
      "guess ss.B = 6.7000\n",
      "implied ss.r = 0.0149\n",
      "household problem in ss solved in 0.2 secs [333 iterations]\n",
      "household problem in ss simulated in 0.0 secs [409 iterations]\n",
      "implied ss.A_hh = 0.6671\n",
      "clearing_A =  -6.03291299\n",
      "\n",
      "guess ss.B = 7.8000\n",
      "implied ss.r = 0.0128\n",
      "household problem in ss solved in 0.2 secs [313 iterations]\n",
      "household problem in ss simulated in 0.0 secs [370 iterations]\n",
      "implied ss.A_hh = 0.5433\n",
      "clearing_A =  -7.25668193\n",
      "\n",
      "guess ss.B = 8.9000\n",
      "implied ss.r = 0.0112\n",
      "household problem in ss solved in 0.2 secs [300 iterations]\n",
      "household problem in ss simulated in 0.0 secs [345 iterations]\n",
      "implied ss.A_hh = 0.4661\n",
      "clearing_A =  -8.43394125\n",
      "\n",
      "guess ss.B = 10.0000\n",
      "implied ss.r = 0.0100\n",
      "household problem in ss solved in 0.2 secs [290 iterations]\n",
      "household problem in ss simulated in 0.0 secs [327 iterations]\n",
      "implied ss.A_hh = 0.4137\n",
      "clearing_A =  -9.58633241\n",
      "\n",
      "### step 2: determine search bracket ###\n",
      "\n",
      "K in [  2.30000000,  3.40000000]\n",
      "\n",
      "### step 3: search ###\n",
      "\n",
      "  0: K_ss =   3.39858180 -> A_hh-K =  -0.11826582\n",
      "  1: K_ss =   3.37357838 -> A_hh-K =   0.00247492\n",
      "  2: K_ss =   3.37409089 -> A_hh-K =  -0.00005109\n",
      "  3: K_ss =   3.37408053 -> A_hh-K =  -0.00000002\n",
      "  4: K_ss =   3.37408050 -> A_hh-K =   0.00000009\n",
      "\n",
      "K_ss =   3.37408053 [A_hh-K =  -0.00000002]\n",
      "\n",
      "found steady state in 9.7 secs\n"
     ]
    }
   ],
   "source": [
    "model.find_ss(method='direct',do_print=True)"
   ]
  },
  {
   "cell_type": "markdown",
   "metadata": {},
   "source": [
    "**Look at the steady state variables:**"
   ]
  },
  {
   "cell_type": "code",
   "execution_count": 92,
   "metadata": {},
   "outputs": [
    {
     "name": "stdout",
     "output_type": "stream",
     "text": [
      "Y              : 1.0000\n",
      "C              : 1.0000\n",
      "I              : 0.0000\n",
      "B              : 3.3741\n",
      "r              : 0.0296\n",
      "A_hh           : 3.3741\n",
      "C_hh           : 1.0000\n",
      "clearing_A     : 0.0000\n",
      "clearing_C     : 0.0000\n"
     ]
    }
   ],
   "source": [
    "for varname in model.varlist:\n",
    "    print(f'{varname:15s}: {ss.__dict__[varname]:.4f}')"
   ]
  },
  {
   "cell_type": "markdown",
   "metadata": {},
   "source": [
    "## Looking at the stationary equilibrium"
   ]
  },
  {
   "cell_type": "markdown",
   "metadata": {},
   "source": [
    "### Policy functions"
   ]
  },
  {
   "cell_type": "code",
   "execution_count": 93,
   "metadata": {},
   "outputs": [
    {
     "data": {
      "image/png": "[encoded data removed]",
      "text/plain": [
       "<Figure size 1200x400 with 2 Axes>"
      ]
     },
     "metadata": {},
     "output_type": "display_data"
    }
   ],
   "source": [
    "fig = plt.figure(figsize=(12,4),dpi=100)\n",
    "\n",
    "I = par.a_grid < 500\n",
    "\n",
    "# a. consumption\n",
    "ax = fig.add_subplot(1,2,1)\n",
    "ax.set_title(f'consumption')\n",
    "\n",
    "for i_z,z in enumerate(par.z_grid):\n",
    "    if i_z%3 == 0 or i_z == par.Nz-1:\n",
    "        ax.plot(par.a_grid[I],ss.c[0,i_z,I],label=f'z = {z:.2f}')\n",
    "\n",
    "ax.legend(frameon=True)\n",
    "ax.set_xlabel('savings, $a_{t-1}$')\n",
    "ax.set_ylabel('consumption, $c_t$')\n",
    "\n",
    "# b. saving\n",
    "ax = fig.add_subplot(1,2,2)\n",
    "ax.set_title(f'saving')\n",
    "\n",
    "for i_z,z in enumerate(par.z_grid):\n",
    "    if i_z%3 == 0 or i_z == par.Nz-1:\n",
    "        ax.plot(par.a_grid[I],ss.a[0,i_z,I]-par.a_grid[I],label=f'z = {z:.2f}')\n",
    "\n",
    "ax.set_xlabel('savings, $a_{t-1}$')\n",
    "ax.set_ylabel('savings change, $a_{t}-a_{t-1}$')\n",
    "\n",
    "fig.tight_layout()"
   ]
  },
  {
   "cell_type": "markdown",
   "metadata": {},
   "source": [
    "### Distributions"
   ]
  },
  {
   "cell_type": "code",
   "execution_count": 17,
   "metadata": {},
   "outputs": [
    {
     "data": {
      "image/png": "[encoded data removed]",
      "text/plain": [
       "<Figure size 1200x400 with 2 Axes>"
      ]
     },
     "metadata": {},
     "output_type": "display_data"
    }
   ],
   "source": [
    "fig = plt.figure(figsize=(12,4),dpi=100)\n",
    "\n",
    "# a. income\n",
    "ax = fig.add_subplot(1,2,1)\n",
    "ax.set_title('productivity')\n",
    "ax.plot(par.z_grid,np.cumsum(np.sum(ss.D,axis=(0,2))))\n",
    "\n",
    "ax.set_xlabel('productivity, $z_{t}$')\n",
    "ax.set_ylabel('CDF')\n",
    "\n",
    "# b. assets\n",
    "ax = fig.add_subplot(1,2,2)\n",
    "ax.set_title('savings')\n",
    "ax.plot(np.insert(par.a_grid,0,par.a_grid[0]),np.insert(np.cumsum(np.sum(ss.D,axis=(0,1))),0,0.0),label='discrete')\n",
    "ax.set_xlabel('assets, $a_{t}$')\n",
    "ax.set_ylabel('CDF')\n",
    "ax.set_xscale('symlog')"
   ]
  },
  {
   "cell_type": "markdown",
   "metadata": {},
   "source": [
    "**Income moments:**"
   ]
  },
  {
   "cell_type": "code",
   "execution_count": 95,
   "metadata": {},
   "outputs": [
    {
     "name": "stdout",
     "output_type": "stream",
     "text": [
      "mean z:  1.00\n",
      "std. z:  0.36\n"
     ]
    }
   ],
   "source": [
    "mean_z = np.sum(ss.D*par.z_grid[:,np.newaxis])\n",
    "std_z = np.sqrt(np.sum(ss.D*(par.z_grid[np.newaxis,:,np.newaxis]-mean_z)**2))\n",
    "print(f'mean z: {mean_z:5.2f}')\n",
    "print(f'std. z: {std_z:5.2f}')"
   ]
  },
  {
   "cell_type": "markdown",
   "metadata": {},
   "source": [
    "**Asset moments:**"
   ]
  },
  {
   "cell_type": "code",
   "execution_count": 98,
   "metadata": {},
   "outputs": [
    {
     "name": "stdout",
     "output_type": "stream",
     "text": [
      "mean a:  3.374\n",
      "p25  a:  0.201\n",
      "p50  a:  1.631\n",
      "p95  a: 12.544\n",
      "p99  a: 19.579\n",
      "std. a:  4.420\n"
     ]
    }
   ],
   "source": [
    "# a. prepare\n",
    "Da = np.sum(ss.D,axis=(0,1))\n",
    "Da_cs = np.cumsum(Da)\n",
    "mean_a = np.sum(Da*par.a_grid)\n",
    "std_a = np.sqrt(np.sum(Da*(par.a_grid-mean_a)**2))\n",
    "\n",
    "def percentile(par,Da_cs,p):\n",
    "    \n",
    "    # a. check first\n",
    "    if p < Da_cs[0]: return par.a_grid[0]\n",
    "    \n",
    "    # b. find with loop\n",
    "    i = 0\n",
    "    while True:\n",
    "        if p > Da_cs[i+1]:\n",
    "            if i+1 >= par.Na: raise Exception()\n",
    "            i += 1\n",
    "            continue\n",
    "        else:\n",
    "            w = (p-Da_cs[i])/(Da_cs[i+1]-Da_cs[i])\n",
    "            diff = par.a_grid[i+1]-par.a_grid[i]\n",
    "            return par.a_grid[i]+w*diff\n",
    "        \n",
    "p25_a = percentile(par,Da_cs,0.25)\n",
    "p50_a = percentile(par,Da_cs,0.50)\n",
    "p95_a = percentile(par,Da_cs,0.95)\n",
    "p99_a = percentile(par,Da_cs,0.99)\n",
    "\n",
    "# b. print\n",
    "print(f'mean a: {mean_a:6.3f}')\n",
    "print(f'p25  a: {p25_a:6.3f}')\n",
    "print(f'p50  a: {p50_a:6.3f}')\n",
    "print(f'p95  a: {p95_a:6.3f}')\n",
    "print(f'p99  a: {p99_a:6.3f}')\n",
    "print(f'std. a: {std_a:6.3f}')"
   ]
  },
  {
   "cell_type": "markdown",
   "metadata": {},
   "source": [
    "**MPC:**"
   ]
  },
  {
   "cell_type": "code",
   "execution_count": 100,
   "metadata": {},
   "outputs": [
    {
     "name": "stdout",
     "output_type": "stream",
     "text": [
      "mean MPC: 0.193\n"
     ]
    }
   ],
   "source": [
    "def calc_MPC(par,ss):\n",
    "    \n",
    "    MPC = np.zeros(ss.D.shape)\n",
    "    dc = (ss.c[:,:,1:]-ss.c[:,:,:-1])\n",
    "    dm = (1+model.ss.r)*par.a_grid[np.newaxis,np.newaxis,1:]-(1+model.ss.r)*par.a_grid[np.newaxis,np.newaxis,:-1]\n",
    "    MPC[:,:,:-1] = dc/dm\n",
    "    MPC[:,:,-1] = MPC[:,:,-1] # assuming constant MPC at end\n",
    "    mean_MPC = np.sum(MPC*ss.D)\n",
    "    return mean_MPC\n",
    "\n",
    "mean_MPC = calc_MPC(par,ss)\n",
    "print(f'mean MPC: {mean_MPC:.3f}')"
   ]
  },
  {
   "cell_type": "markdown",
   "metadata": {},
   "source": [
    "**Question:** What is the correlation between income and savings?"
   ]
  },
  {
   "cell_type": "markdown",
   "metadata": {},
   "source": [
    "## Indirect approach"
   ]
  },
  {
   "cell_type": "code",
   "execution_count": 105,
   "metadata": {},
   "outputs": [],
   "source": [
    "# Something is wrong here\n",
    "model_indirect = model.copy()\n",
    "model_indirect.r_ss_target = 0.08\n",
    "model_indirect.allocate()"
   ]
  },
  {
   "cell_type": "code",
   "execution_count": 106,
   "metadata": {},
   "outputs": [
    {
     "name": "stdout",
     "output_type": "stream",
     "text": [
      "household problem in ss solved in 0.2 secs [531 iterations]\n",
      "household problem in ss simulated in 0.1 secs [1185 iterations]\n",
      "\n",
      "Implied B =  3.541\n",
      "Implied Y =  1.000\n",
      "Implied tau =  0.106\n",
      "Implied B/Y =  3.541\n",
      "Discrepancy in b-A_hh =   0.00000000\n",
      "Discrepancy in C-C_hh =  -0.00623885\n",
      "\n",
      "found steady state in 0.3 secs\n"
     ]
    }
   ],
   "source": [
    "model_indirect.find_ss(method='indirect',do_print=True)"
   ]
  },
  {
   "cell_type": "markdown",
   "metadata": {},
   "source": [
    "**Question:** What are the pros and cons of the direct and indirect method?"
   ]
  },
  {
   "cell_type": "markdown",
   "metadata": {},
   "source": [
    "# Idiosyncratic risk and the steady state interest rate"
   ]
  },
  {
   "cell_type": "code",
   "execution_count": 23,
   "metadata": {},
   "outputs": [
    {
     "name": "stdout",
     "output_type": "stream",
     "text": [
      "ss.A_hh = ss.K = 4.87\n",
      "ss.r = 3.07 %\n",
      "\n",
      "sigma_psi = 0.10\n",
      "PE A_hh = 4.87\n",
      "GE ss.r = 3.07 %\n",
      "GE ss.A_hh = ss.K = 4.87\n",
      "\n",
      "sigma_psi = 0.12\n",
      "PE A_hh = 8.65\n",
      "GE ss.r = 2.56 %\n",
      "GE ss.A_hh = ss.K = 5.18\n",
      "\n",
      "sigma_psi = 0.15\n",
      "PE A_hh = 13.06\n",
      "GE ss.r = 2.01 %\n",
      "GE ss.A_hh = ss.K = 5.56\n",
      "\n",
      "sigma_psi = 0.18\n",
      "PE A_hh = 17.79\n",
      "GE ss.r = 1.42 %\n",
      "GE ss.A_hh = ss.K = 6.02\n",
      "\n",
      "sigma_psi = 0.20\n",
      "PE A_hh = 22.52\n",
      "GE ss.r = 0.81 %\n",
      "GE ss.A_hh = ss.K = 6.56\n",
      "\n"
     ]
    }
   ],
   "source": [
    "print(f'ss.A_hh = ss.K = {ss.A_hh:.2f}')\n",
    "print(f'ss.r = {ss.r*100:.2f} %')\n",
    "print('')\n",
    "      \n",
    "for sigma_psi in np.linspace(par.sigma_psi,2*par.sigma_psi,5):\n",
    "    \n",
    "    print(f'{sigma_psi = :.2f}')\n",
    "\n",
    "    model_ = model.copy()\n",
    "    model_.par.sigma_psi = sigma_psi\n",
    "        \n",
    "    model_.solve_hh_ss(do_print=False)\n",
    "    model_.simulate_hh_ss(do_print=False)\n",
    "    \n",
    "    A_hh = np.sum(model_.ss.a*model_.ss.D)\n",
    "    \n",
    "    print(f'PE {A_hh = :.2f}')\n",
    "          \n",
    "    model_.find_ss(method='direct')\n",
    "\n",
    "    print(f'GE ss.r = {model_.ss.r*100:.2f} %')\n",
    "    print(f'GE ss.A_hh = ss.K = {model_.ss.A_hh:.2f}')\n",
    "\n",
    "    print('')"
   ]
  },
  {
   "cell_type": "markdown",
   "metadata": {},
   "source": [
    "# Calibration"
   ]
  },
  {
   "cell_type": "code",
   "execution_count": 24,
   "metadata": {},
   "outputs": [],
   "source": [
    "from root_finding import brentq"
   ]
  },
  {
   "cell_type": "code",
   "execution_count": 25,
   "metadata": {},
   "outputs": [],
   "source": [
    "def calib_obj(beta,model):\n",
    "    \"\"\" calibration objective \"\"\"\n",
    "    \n",
    "    model.par.beta = beta\n",
    "    model.find_ss(method='direct')    \n",
    "    \n",
    "    mean_MPC = calc_MPC(model.par,model.ss)\n",
    "     \n",
    "    return mean_MPC-0.20"
   ]
  },
  {
   "cell_type": "code",
   "execution_count": 26,
   "metadata": {},
   "outputs": [
    {
     "name": "stdout",
     "output_type": "stream",
     "text": [
      "  0: beta =   0.94198455 -> MPC-0.20 =   0.00011745\n",
      "  1: beta =   0.94208540 -> MPC-0.20 =   0.00000007\n",
      "  2: beta =   0.94208546 -> MPC-0.20 =   0.00000000\n",
      "  3: beta =   0.94208547 -> MPC-0.20 =  -0.00000001\n",
      "\n",
      "beta =   0.94208546 [MPC-0.20 =   0.00000000]\n",
      "\n"
     ]
    }
   ],
   "source": [
    "model_calib = model.copy()\n",
    "brentq(calib_obj,0.94,par.beta,args=(model_calib,),do_print=True,varname='beta',funcname='MPC-0.20');"
   ]
  },
  {
   "cell_type": "code",
   "execution_count": 27,
   "metadata": {},
   "outputs": [
    {
     "name": "stdout",
     "output_type": "stream",
     "text": [
      "ss.r = 4.92 %\n",
      "ss.K = 3.96\n"
     ]
    }
   ],
   "source": [
    "print(f'ss.r = {model_calib.ss.r*100:.2f} %')\n",
    "print(f'ss.K = {model_calib.ss.K:.2f}')"
   ]
  },
  {
   "cell_type": "markdown",
   "metadata": {},
   "source": [
    "**Question:** What could be an alternative be to use a root-finder?"
   ]
  },
  {
   "cell_type": "markdown",
   "metadata": {},
   "source": [
    "# In-class exercise"
   ]
  },
  {
   "cell_type": "markdown",
   "metadata": {},
   "source": [
    "1. Look at the code and talk about it with the person next to you for 5 minutes\n",
    "2. Write at least one question on https://padlet.com/jeppe_druedahl/advmacrohet"
   ]
  }
 ],
 "metadata": {
  "kernelspec": {
   "display_name": "Python 3.9.12 ('base')",
   "language": "python",
   "name": "python3"
  },
  "language_info": {
   "codemirror_mode": {
    "name": "ipython",
    "version": 3
   },
   "file_extension": ".py",
   "mimetype": "text/x-python",
   "name": "python",
   "nbconvert_exporter": "python",
   "pygments_lexer": "ipython3",
   "version": "3.9.12"
  },
  "toc-autonumbering": true,
  "vscode": {
   "interpreter": {
    "hash": "2164e4eaf16dd6cd705646718fcef4f5f263bad5b7d103e76e9308c0132ca24b"
   }
  }
 },
 "nbformat": 4,
 "nbformat_minor": 4
}
